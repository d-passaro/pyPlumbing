{
 "cells": [
  {
   "cell_type": "code",
   "execution_count": 1,
   "metadata": {
    "vscode": {
     "languageId": "python"
    }
   },
   "outputs": [],
   "source": [
    "load(\"pySeifert.sage\")"
   ]
  },
  {
   "cell_type": "code",
   "execution_count": 2,
   "metadata": {
    "vscode": {
     "languageId": "python"
    }
   },
   "outputs": [],
   "source": [
    "_cartan_matrices = dict()\n",
    "def cartan_matrix(type_rank):\n",
    "    if str(type_rank) not in _cartan_matrices.keys():\n",
    "        _cartan_matrices[str(type_rank)] = CartanMatrix(type_rank)\n",
    "    return _cartan_matrices[str(type_rank)]\n",
    "\n",
    "_weyl_groups = dict()\n",
    "def weyl_group(type_rank):\n",
    "    if str(type_rank) not in _weyl_groups.keys():\n",
    "        _weyl_groups[str(type_rank)] = [matrix(g) for g in WeylGroup(\n",
    "            type_rank).canonical_representation().list()]\n",
    "    return _weyl_groups[str(type_rank)]\n",
    "\n",
    "_weyl_vectors = dict()\n",
    "def weyl_vector(type_rank):\n",
    "    if str(type_rank) not in _weyl_vectors.keys():\n",
    "        WG = WeylGroup(type_rank).canonical_representation()\n",
    "        _weyl_vectors[str(type_rank)] = 1/2*sum(WG.positive_roots())\n",
    "    return _weyl_vectors[str(type_rank)]"
   ]
  },
  {
   "cell_type": "code",
   "execution_count": 3,
   "metadata": {
    "vscode": {
     "languageId": "python"
    }
   },
   "outputs": [],
   "source": [
    "def weyl_cycle(v, f, group_type, z=None, basis=None):\n",
    "    \"\"\"\n",
    "        Compute the Weyl Cycled z polynomial associated to v:\n",
    "\n",
    "        MATH::\n",
    "            \\\\sum_{w \\\\in W} (-1)^{f l(w)} \\\\ex^{\\\\langle  \\\\vec{\\\\xi}, w(v) \\\\rangle} =   0\n",
    "\n",
    "        where z_i are defined in equations (3.20) and (3.21) of [1].\n",
    "\n",
    "        INPUT:\n",
    "        -   ``v`` -- vector; lattice vector\n",
    "        -   ``f`` -- Integer; Weyl length factor\n",
    "        -   ``group_type`` -- String0; Weyl group type\n",
    "        -   ``z`` -- variable (Optional); symbolic expressions of z_i. If none are given then z_i is chosen as default.\n",
    "        -   ``basis`` -- string; basis in which v is given.\n",
    "\n",
    "        EXAMPLES::\n",
    "            sage: weyl_cycle(vector([1,2]),3)\n",
    "            -z0*z1^2 - z1^3/z0 - z0^3/z1^2 - z0^2/z1^3 - z1/z0^3 - 1/(z0^2*z1)\n",
    "\n",
    "    \"\"\"\n",
    "\n",
    "    if basis == None:\n",
    "        warnings.warn(\"No basis is specified, weight is assumed.\")\n",
    "        basis = \"weight\"\n",
    "    assert basis == \"root\" or basis == \"weight\", \"basis must be root or weight\"\n",
    "\n",
    "    rk = len(v)\n",
    "    if z == None:\n",
    "        varstr = \"\"\n",
    "        for i in range(rk):\n",
    "            varstr += f\", z{i}\"\n",
    "        z = var(varstr)\n",
    "\n",
    "    if basis == \"root\":\n",
    "        v = cartan_matrix([group_type,rk])*v\n",
    "        basis = \"weight\"\n",
    "\n",
    "    WG = weyl_group([group_type,rk])\n",
    "    WL = [det(g) for g in WG]\n",
    "\n",
    "    v = vector(v)\n",
    "    WGv = list()\n",
    "    for g, l in zip(WG, WL):\n",
    "        WGv.append([g*v, l])\n",
    "\n",
    "    cycle = list()\n",
    "    for gv in WGv:\n",
    "        cycle.append((-1) ^ (f*gv[1]) *\n",
    "                     product([x**y for x, y in zip(z, gv[0])]))\n",
    "    return sum(cycle)"
   ]
  },
  {
   "cell_type": "code",
   "execution_count": 4,
   "metadata": {
    "vscode": {
     "languageId": "python"
    }
   },
   "outputs": [],
   "source": [
    "def lattice_norm(group_type, v1, v2=None, basis=None):\n",
    "    \"\"\"\n",
    "    Compute the A_n lattice inner product between vectors v1 and v2.\n",
    "\n",
    "    Input:\n",
    "\n",
    "    -   ``group_type`` -- String; Weyl group type\n",
    "    -    ``v1`` -- sage.modules.vector_integer_dense.Vector_integer_dense; An lattice vector\n",
    "    -    ``v2`` -- sage.modules.vector_integer_dense.Vector_integer_dense; An lattice vector\n",
    "    -    ``basis`` -- string; basis of vectors, either root or weight\n",
    "\n",
    "    Example:\n",
    "        sage: vec1, vec2 = vector([1,2]), vector([2,3])\n",
    "        sage: lattice_norm(vec1, basis=\"weight\")\n",
    "            14/3\n",
    "        sage: lattice_norm(vec1, basis=\"root\")\n",
    "            6\n",
    "        sage: lattice_norm(vec1, vec2, basis=\"root\")\n",
    "            9\n",
    "    \"\"\"\n",
    "\n",
    "    if basis == None:\n",
    "        warnings.warn(\"No basis is specified, weight is assumed.\")\n",
    "        basis = \"weight\"\n",
    "\n",
    "    if v2 == None:\n",
    "        v2 = v1\n",
    "\n",
    "    assert len(v1) == len(v2), \"Vectors must have same dimension\"\n",
    "\n",
    "    rk = len(v1)\n",
    "\n",
    "    if basis == \"root\":\n",
    "        mat = cartan_matrix([group_type, rk])\n",
    "    elif basis == \"weight\":\n",
    "        mat = cartan_matrix([group_type, rk]).inverse()\n",
    "\n",
    "    return vector(v1)*mat*vector(v2)"
   ]
  },
  {
   "cell_type": "code",
   "execution_count": 5,
   "metadata": {
    "vscode": {
     "languageId": "python"
    }
   },
   "outputs": [],
   "source": [
    "def triplet_character(lmbd, mu, m, f, expMax,  basis=\"weight\", qvar=var(\"q\")):\n",
    "    \"\"\"\n",
    "    Compute the triplet character with specified parameters. Argument descriptions refer to equation (3.15) of [1].\n",
    "\n",
    "    INPUTS:\n",
    "    -   ``lmbd`` -- Vector; lambda parameter in equation (3.15)\n",
    "    -   ``mu`` -- Vector; mu parameter in equatoin (3.13)\n",
    "    -   ``m`` -- Integer; m parameter in equatoin (3.13)\n",
    "    -   ``f`` -- Integer; number of fibers of Seifert manifold\n",
    "    -   ``group_type`` -- String; Weyl group type\n",
    "    -   ``expMax`` -- Integer; Maximum exponent in q series expansion\n",
    "    -   ``basis`` -- String; basis in which wh and b are given\n",
    "    -   ``qvar`` -- Variable (default=None); variable in which to expand. If None qvar = var(\"q\")\n",
    "\n",
    "    EXAMPLES::\n",
    "            sage: lmbd,mu,m,f,expMax = vector([0,0]),1/sqrt(30)*vector([3,3]),30,3,20\n",
    "            sage: triplet_character(lmbd,mu,m,f,expMax)\n",
    "            6*q^(2/15)/(z0*z1 + z0^2/z1 + z1^2/z0 + z0/z1^2 + z1/z0^2 + 1/(z0*z1))\n",
    "\n",
    "    \"\"\"\n",
    "\n",
    "    rk = len(mu)\n",
    "\n",
    "    cartan_inv = cartan_matrix([\"A\",2]).inverse()\n",
    "    if basis == \"weight\":\n",
    "        mu = cartan_inv*mu\n",
    "        lmbd = cartan_inv*lmbd\n",
    "        basis = \"root\"\n",
    "\n",
    "    rho = weyl_vector([\"A\", 2])\n",
    "\n",
    "    def Delta(v): return weyl_cycle(v, f, basis=basis)\n",
    "\n",
    "    def fprefexp(lt):\n",
    "        expl = [1/(2*m)*lattice_norm(group_type, m*(lmbd+lt) +\n",
    "                                     sqrt(m)*mu+(m-1)*rho, basis=basis)]\n",
    "        prefl = [Delta(lt+lmbd+rho)/Delta(rho)]\n",
    "        return prefl, expl\n",
    "\n",
    "    return q_series(fprefexp, expMax, rk, qvar=qvar)"
   ]
  },
  {
   "cell_type": "code",
   "execution_count": 6,
   "metadata": {
    "vscode": {
     "languageId": "python"
    }
   },
   "outputs": [],
   "source": [
    "def singlet_character(lmbdt, lmbd, mu, m, f,group_type, expMax, basis=\"root\", qvar=var(\"q\")):\n",
    "    \"\"\"\n",
    "    Compute the singlet character with specified parameters. Argument descriptions refer to equation (3.20) of [1].\n",
    "\n",
    "    INPUT:\n",
    "    -   ``lmbd`` -- Vector; lambda-tilde parameter in equation (3.20)\n",
    "    -   ``lmbd`` -- Vector; lambda parameter in equation (3.20)\n",
    "    -   ``mu`` -- Vector; mu parameter in equatoin (3.20)\n",
    "    -   ``m`` -- Integer; m parameter in equatoin (3.20)\n",
    "    -   ``f`` -- Integer; number of fibers of Seifert manifold\n",
    "    -   ``group_type`` -- String; Weyl group type\n",
    "    -   ``expMax`` -- Integer; Maximum exponent in q series expansion\n",
    "    -   ``basis`` -- String; basis in which wh and b are given\n",
    "    -   ``qvar`` -- Variable (default=None); variable in which to expand. If None qvar = var(\"q\")\n",
    "\n",
    "    EXAMPLES::\n",
    "        sage: lmbd,lmbdt,mu,expMax = vector([0,0]),vector([0,0]),1/sqrt(30)*vector([3,3]),100\n",
    "        sage: singlet_character(lmbdt,lmbd,mu,m,f,expMax)\n",
    "        -4*q^(1352/15) - 4*q^(1262/15) - q^(512/15) - 2*q^(482/15) - 2*q^(422/15) - q^(392/15)\n",
    "\n",
    "    \"\"\"\n",
    "    rk = len(mu)\n",
    "\n",
    "    C2 = cartan_matrix([group_type,rk])\n",
    "    if basis == \"root\":\n",
    "        lmbd = C2*lmbd\n",
    "        lmbdt = C2*lmbdt\n",
    "        mu = C2*mu\n",
    "        lmbd = C2*lmbd\n",
    "        basis = \"weight\"\n",
    "\n",
    "    rho = weyl_vector([group_type,rk])\n",
    "\n",
    "    def fprefexp(lt):\n",
    "        if (lt[0]-lt[1]) % 3 != 0:\n",
    "            return [], []\n",
    "        expl = [1/(2*m)*lattice_norm(group_type, m*(lmbd+lt) +\n",
    "                                     sqrt(m)*mu+(m-1)*rho, basis=basis)]\n",
    "        prefl = [const_term(weyl_cycle(lt+lmbd+rho, f, group_type, basis=basis)*z0 ^ lmbdt[0]\n",
    "                            * z1 ^ lmbdt[1]/weyl_cycle(rho,f,group_type,basis=basis))]\n",
    "        return prefl, expl\n",
    "\n",
    "    return q_series(fprefexp, expMax, rk, qvar=qvar)"
   ]
  },
  {
   "cell_type": "code",
   "execution_count": 7,
   "metadata": {
    "vscode": {
     "languageId": "python"
    }
   },
   "outputs": [
    {
     "data": {
      "text/plain": [
       "6*q^(2/15)/(z0*z1 + z0^2/z1 + z1^2/z0 + z0/z1^2 + z1/z0^2 + 1/(z0*z1))"
      ]
     },
     "execution_count": 7,
     "metadata": {},
     "output_type": "execute_result"
    }
   ],
   "source": [
    "load(\"pySeifert.sage\")\n",
    "lmbd,mu,m,f,expMax = vector([0,0]),1/sqrt(30)*vector([3,3]),30,2,20\n",
    "triplet_character([\"A\",2],lmbd,mu,m,f,expMax)"
   ]
  },
  {
   "cell_type": "code",
   "execution_count": 8,
   "metadata": {
    "vscode": {
     "languageId": "python"
    }
   },
   "outputs": [
    {
     "data": {
      "text/plain": [
       "[[(-1, -1), (1, 1), (1, 1), (1, 1)]]"
      ]
     },
     "execution_count": 8,
     "metadata": {},
     "output_type": "execute_result"
    }
   ],
   "source": [
    "load(\"pySeifert.sage\")\n",
    "S = Seifert([-1,1,2,1,3,1,5])\n",
    "S.boundary_conditions([\"A\",2],basis = \"weight\")"
   ]
  },
  {
   "cell_type": "code",
   "execution_count": 9,
   "metadata": {
    "vscode": {
     "languageId": "python"
    }
   },
   "outputs": [
    {
     "data": {
      "text/plain": [
       "[[(-1, -1), (1, 1), (1, 1), (1, 1)],\n",
       " [(0, -1), (0, 1), (0, 1), (1, 1)],\n",
       " [(0, -1), (0, 1), (1, 1), (0, 1)],\n",
       " [(0, -1), (1, 1), (0, 1), (0, 1)]]"
      ]
     },
     "execution_count": 9,
     "metadata": {},
     "output_type": "execute_result"
    }
   ],
   "source": [
    "S = Seifert([-1,1,2,1,2,1,2])\n",
    "S.boundary_conditions([\"A\",2],basis = \"root\")"
   ]
  },
  {
   "cell_type": "code",
   "execution_count": 10,
   "metadata": {
    "vscode": {
     "languageId": "python"
    }
   },
   "outputs": [
    {
     "data": {
      "text/plain": [
       "[[(-3, -5, -3, -3), (3, 5, 3, 3), (3, 5, 3, 3), (3, 5, 3, 3)],\n",
       " [(-2, -5, -3, -3), (2, 5, 3, 3), (2, 5, 3, 3), (3, 5, 3, 3)],\n",
       " [(-2, -5, -3, -3), (2, 5, 3, 3), (3, 5, 3, 3), (2, 5, 3, 3)],\n",
       " [(-2, -5, -3, -3), (3, 5, 3, 3), (2, 5, 3, 3), (2, 5, 3, 3)]]"
      ]
     },
     "execution_count": 10,
     "metadata": {},
     "output_type": "execute_result"
    }
   ],
   "source": [
    "S = Seifert([-1,1,2,1,2,1,2])\n",
    "S.boundary_conditions([\"D\",4],basis=\"root\")"
   ]
  },
  {
   "cell_type": "code",
   "execution_count": 11,
   "metadata": {
    "vscode": {
     "languageId": "python"
    }
   },
   "outputs": [],
   "source": [
    "m1 = matrix([(1, -2), (-1, 2), (-1, 2), (1, 1)])\n",
    "m2 = matrix([(0, -1), (1, 1), (0, 1), (0, 1)])"
   ]
  },
  {
   "cell_type": "code",
   "execution_count": 15,
   "metadata": {
    "vscode": {
     "languageId": "python"
    }
   },
   "outputs": [],
   "source": [
    "lmbd,mu,m,f,expMax = vector([0,0]),1/sqrt(30)*vector([3,3]),30,2,20\n",
    "c = triplet_character([\"A\",2],lmbd,mu,m,f,expMax)"
   ]
  },
  {
   "cell_type": "code",
   "execution_count": 23,
   "metadata": {
    "vscode": {
     "languageId": "python"
    }
   },
   "outputs": [
    {
     "name": "stdout",
     "output_type": "stream",
     "text": [
      "const: 6*q^(2/15)/(z0*z1 + z0^2/z1 + z1^2/z0 + z0/z1^2 + z1/z0^2 + 1/(z0*z1))\n",
      "[[0, 0], [0, 1], [6*q^(2/15)/z1, 2], [-6*(z1^2 + 1/z1)*q^(2/15)/z1^2, 3]]\n",
      "0 0\n",
      "const: 0\n",
      "[[0, 0], [0, 1], [0, 2], [0, 3]]\n",
      "0 0\n"
     ]
    }
   ],
   "source": [
    "const = copy(c)\n",
    "for var in c.variables():\n",
    "    if var == q:\n",
    "        continue\n",
    "    print(\"const:\", const)\n",
    "    print(const.series(var,4).coefficients(var))\n",
    "    for coeff,exp in const.series(var,4).coefficients(var):\n",
    "        print(coeff,exp)\n",
    "        if exp == 0:\n",
    "            const = coeff\n",
    "            break"
   ]
  },
  {
   "cell_type": "code",
   "execution_count": 24,
   "metadata": {
    "vscode": {
     "languageId": "python"
    }
   },
   "outputs": [
    {
     "data": {
      "text/plain": [
       "-4*q^(1442/15) - 4*q^(1352/15) - 4*q^(1262/15) + q^(512/15) + 2*q^(482/15) + 2*q^(422/15) + q^(392/15)"
      ]
     },
     "execution_count": 24,
     "metadata": {},
     "output_type": "execute_result"
    }
   ],
   "source": [
    "load(\"pySeifert.sage\")\n",
    "lmbd,lmbdt,mu,expMax = vector([0,0]),vector([0,0]),1/sqrt(30)*vector([3,3]),100\n",
    "singlet_character([\"A\",2],lmbdt,lmbd,mu,m,2,expMax)"
   ]
  },
  {
   "cell_type": "code",
   "execution_count": 27,
   "metadata": {
    "vscode": {
     "languageId": "python"
    }
   },
   "outputs": [],
   "source": [
    "t = 2*(z0^3 + z1^3/z0^3 + 1/z1^3)*q^(1442/15)/(z0*z1 + z0^2/z1 + z1^2/z0 + z0/z1^2 + z1/z0^2 + 1/(z0*z1)) + 2*(z1^3 + z0^3/z1^3 + 1/z0^3)*q^(1442/15)/(z0*z1 + z0^2/z1 + z1^2/z0 + z0/z1^2 + z1/z0^2 + 1/(z0*z1)) + 2*(z0^3 + z1^3/z0^3 + 1/z1^3)*q^(1352/15)/(z0*z1 + z0^2/z1 + z1^2/z0 + z0/z1^2 + z1/z0^2 + 1/(z0*z1)) + 2*(z1^3 + z0^3/z1^3 + 1/z0^3)*q^(1352/15)/(z0*z1 + z0^2/z1 + z1^2/z0 + z0/z1^2 + z1/z0^2 + 1/(z0*z1)) + 2*(z0^3 + z1^3/z0^3 + 1/z1^3)*q^(1262/15)/(z0*z1 + z0^2/z1 + z1^2/z0 + z0/z1^2 + z1/z0^2 + 1/(z0*z1)) + 2*(z1^3 + z0^3/z1^3 + 1/z0^3)*q^(1262/15)/(z0*z1 + z0^2/z1 + z1^2/z0 + z0/z1^2 + z1/z0^2 + 1/(z0*z1)) + q^(512/15) + 2*q^(482/15) + 2*q^(422/15) + q^(392/15) + 6*q^(2/15)/(z0*z1 + z0^2/z1 + z1^2/z0 + z0/z1^2 + z1/z0^2 + 1/(z0*z1))"
   ]
  },
  {
   "cell_type": "code",
   "execution_count": 16,
   "metadata": {
    "vscode": {
     "languageId": "python"
    }
   },
   "outputs": [],
   "source": [
    "def S_set(self,type_rank,whr,b,basis=\"root\"):\n",
    "    if basis == \"weight\":\n",
    "        # Change basis to root\n",
    "        basis = \"root\"\n",
    "    kappa_list = list()\n",
    "    rho = weyl_vector(type_rank)\n",
    "    whr[0] = - (type_rank[1] % 2) * rho\n",
    "    lam = - matrix(whr) - matrix(b)\n",
    "    k_list = list()\n",
    "    MS = MatrixSpace(ZZ, lam.nrows(), lam.ncols())\n",
    "    for k1,k2 in itertools.product(range(self.d),repeat=2):\n",
    "        kappa = matrix([[k1,k2]]+[[0,0]]*(lam.nrows()-1))\n",
    "        if self.Minv*(kappa+lam) in MS:\n",
    "            k_list += [vector([k1,k2])]\n",
    "    return k_list"
   ]
  },
  {
   "cell_type": "code",
   "execution_count": 2,
   "metadata": {
    "vscode": {
     "languageId": "python"
    }
   },
   "outputs": [
    {
     "data": {
      "text/plain": [
       "[(1, 5)]"
      ]
     },
     "execution_count": 2,
     "metadata": {},
     "output_type": "execute_result"
    }
   ],
   "source": [
    "load(\"pySeifert.sage\")\n",
    "S = Seifert([0,1,3,1,2,1,6])\n",
    "b = S.boundary_conditions([\"A\",2], basis = \"root\")[1]\n",
    "rho = vector([1,1])\n",
    "whr = [identity_matrix(2)*rho if d == 1 else matrix(2)*rho for d in S.deg]\n",
    "S.S_set([\"A\",2],whr,b)"
   ]
  },
  {
   "cell_type": "code",
   "execution_count": 32,
   "metadata": {
    "vscode": {
     "languageId": "python"
    }
   },
   "outputs": [
    {
     "data": {
      "text/plain": [
       "[[-1, (-6, -6), (5, 5)],\n",
       " [1, (0, 0), (4, 4)],\n",
       " [1, (6, -12), (5, 5)],\n",
       " [-1, (0, 0), (6, 3)],\n",
       " [1, (-12, 6), (5, 5)],\n",
       " [-1, (0, 0), (3, 6)],\n",
       " [1, (0, 0), (10, -5)],\n",
       " [-1, (-6, 12), (5, 5)],\n",
       " [1, (0, 0), (-5, 10)],\n",
       " [-1, (12, -6), (5, 5)],\n",
       " [-1, (0, 0), (0, 0)],\n",
       " [1, (6, 6), (5, 5)]]"
      ]
     },
     "execution_count": 32,
     "metadata": {},
     "output_type": "execute_result"
    }
   ],
   "source": [
    "load(\"pySeifert.sage\")\n",
    "S = Seifert([0,1,3,1,2,1,6])\n",
    "b = S.boundary_conditions([\"A\",2],basis = \"root\")[0]\n",
    "S.s_values([\"A\",2],b,\"weight\")"
   ]
  },
  {
   "cell_type": "code",
   "execution_count": 41,
   "metadata": {
    "vscode": {
     "languageId": "python"
    }
   },
   "outputs": [
    {
     "data": {
      "text/plain": [
       "[[-1, (-6), (10)], [1, (6), (10)]]"
      ]
     },
     "execution_count": 41,
     "metadata": {},
     "output_type": "execute_result"
    }
   ],
   "source": [
    "load(\"pySeifert.sage\")\n",
    "S = Seifert([0,1,3,1,2,1,6])\n",
    "b = S.boundary_conditions([\"A\",1],basis = \"weight\")[0]\n",
    "S.s_values([\"A\",1],b,\"weight\")"
   ]
  },
  {
   "cell_type": "code",
   "execution_count": 42,
   "metadata": {
    "vscode": {
     "languageId": "python"
    }
   },
   "outputs": [
    {
     "data": {
      "text/plain": [
       "[[1, (-6, -6, -6), (4, -2, 4)],\n",
       " [-1, (0, 0, -12), (3, -3, 5)],\n",
       " [-1, (-12, 0, 0), (5, -3, 3)],\n",
       " [1, (-6, 6, -6), (7, -4, 7)],\n",
       " [-1, (-6, 0, 6), (7, -3, 5)],\n",
       " [1, (-6, 6, -6), (4, -4, 4)],\n",
       " [-1, (6, 0, -6), (5, -3, 7)],\n",
       " [1, (6, -6, 6), (5, -2, 5)],\n",
       " [-1, (6, -12, -6), (4, -2, 4)],\n",
       " [1, (0, 0, -12), (5, -4, 5)],\n",
       " [1, (-6, 6, -6), (3, -2, 7)],\n",
       " [-1, (-6, 0, 6), (3, -1, 5)],\n",
       " [1, (12, -12, 0), (3, -2, 3)],\n",
       " [-1, (6, 0, -6), (1, -1, 7)],\n",
       " [1, (6, -6, 6), (1, 0, 5)],\n",
       " [-1, (6, 0, -6), (4, -4, 4)],\n",
       " [-1, (-12, 6, -12), (4, -2, 4)],\n",
       " [1, (0, 0, -12), (2, -1, 4)],\n",
       " [1, (-12, 0, 0), (4, -1, 2)],\n",
       " [-1, (0, -6, 0), (5, 0, 5)],\n",
       " [1, (-6, 0, 6), (6, -1, 4)],\n",
       " [-1, (0, -6, 0), (2, 0, 2)],\n",
       " [1, (6, 0, -6), (4, -1, 6)],\n",
       " [-1, (0, 6, 0), (5, -2, 5)],\n",
       " [-1, (-6, -12, 6), (4, -2, 4)],\n",
       " [1, (-12, 0, 0), (5, -4, 5)],\n",
       " [1, (-6, 6, -6), (7, -2, 3)],\n",
       " [1, (0, -12, 12), (3, -2, 3)],\n",
       " [-1, (-6, 0, 6), (7, -1, 1)],\n",
       " [-1, (6, 0, -6), (5, -1, 3)],\n",
       " [-1, (-6, 0, 6), (4, -4, 4)],\n",
       " [1, (6, -6, 6), (5, 0, 1)],\n",
       " [-1, (0, 0, -12), (3, 0, 3)],\n",
       " [1, (-6, 12, -18), (4, -2, 4)],\n",
       " [-1, (0, -6, 0), (3, -2, 7)],\n",
       " [1, (-6, 0, 6), (4, -3, 6)],\n",
       " [1, (6, 0, -6), (2, -3, 8)],\n",
       " [1, (6, 0, -6), (2, 0, 2)],\n",
       " [-1, (0, 12, -12), (3, -2, 3)],\n",
       " [-1, (0, 6, 0), (3, -4, 7)],\n",
       " [-1, (0, 0, -12), (6, -3, 4)],\n",
       " [1, (0, -6, 0), (3, 1, 5)],\n",
       " [1, (12, -6, -12), (4, -2, 4)],\n",
       " [1, (0, -6, 0), (6, -2, 2)],\n",
       " [-1, (-6, 6, -6), (4, -1, 6)],\n",
       " [-1, (12, -12, 0), (4, -1, 2)],\n",
       " [-1, (6, -6, 6), (2, 1, 4)],\n",
       " [1, (0, 6, 0), (3, -1, 5)],\n",
       " [1, (0, -6, 0), (5, 1, 3)],\n",
       " [-1, (-12, 0, 0), (4, -3, 6)],\n",
       " [-1, (-6, 6, -6), (6, -1, 4)],\n",
       " [1, (0, -6, 0), (2, -2, 6)],\n",
       " [1, (-12, -6, 12), (4, -2, 4)],\n",
       " [-1, (0, -12, 12), (2, -1, 4)],\n",
       " [-1, (6, -6, 6), (4, 1, 2)],\n",
       " [1, (0, 6, 0), (5, -1, 3)],\n",
       " [1, (6, -18, 6), (4, -2, 4)],\n",
       " [-1, (0, -12, 12), (5, -3, 3)],\n",
       " [1, (-6, 6, -6), (3, 0, 3)],\n",
       " [-1, (12, -12, 0), (3, -3, 5)],\n",
       " [-1, (-6, 0, 6), (3, 1, 1)],\n",
       " [-1, (6, 0, -6), (1, 1, 3)],\n",
       " [1, (6, -6, 6), (1, 2, 1)],\n",
       " [1, (6, -6, 6), (4, -4, 4)],\n",
       " [-1, (-12, 0, 0), (3, 0, 3)],\n",
       " [-1, (0, -6, 0), (7, -2, 3)],\n",
       " [1, (-18, 12, -6), (4, -2, 4)],\n",
       " [1, (-6, 0, 6), (8, -3, 2)],\n",
       " [1, (6, 0, -6), (6, -3, 4)],\n",
       " [1, (-6, 0, 6), (2, 0, 2)],\n",
       " [-1, (-12, 12, 0), (3, -2, 3)],\n",
       " [-1, (0, 6, 0), (7, -4, 3)],\n",
       " [1, (0, 0, -12), (5, -1, 3)],\n",
       " [1, (0, -6, 0), (5, -3, 7)],\n",
       " [-1, (-6, 6, -6), (6, -5, 8)],\n",
       " [-1, (6, 6, -18), (4, -2, 4)],\n",
       " [-1, (-6, 6, -6), (6, -2, 2)],\n",
       " [-1, (6, -6, 6), (4, -3, 6)],\n",
       " [1, (0, 12, -12), (5, -3, 3)],\n",
       " [1, (0, 6, 0), (5, -5, 7)],\n",
       " [1, (0, -6, 0), (3, 1, 1)],\n",
       " [-1, (-6, 6, -6), (4, -1, 2)],\n",
       " [1, (0, -12, 12), (3, -1, 5)],\n",
       " [-1, (-6, -6, 18), (4, -2, 4)],\n",
       " [-1, (6, -6, 6), (2, -2, 6)],\n",
       " [-1, (6, -6, 6), (2, 1, 0)],\n",
       " [1, (0, 6, 0), (3, -1, 1)],\n",
       " [1, (0, 0, 12), (3, -3, 5)],\n",
       " [-1, (0, -6, 0), (3, 2, 3)],\n",
       " [-1, (0, -6, 0), (6, -4, 6)],\n",
       " [1, (12, -12, 0), (4, -3, 6)],\n",
       " [1, (0, -12, 12), (6, -3, 4)],\n",
       " [1, (6, 0, -6), (2, 1, 4)],\n",
       " [-1, (12, -18, 12), (4, -2, 4)],\n",
       " [1, (-6, 0, 6), (4, 1, 2)],\n",
       " [-1, (0, 6, 0), (3, 0, 3)],\n",
       " [1, (-12, 0, 0), (3, -1, 5)],\n",
       " [1, (0, -6, 0), (7, -3, 5)],\n",
       " [-1, (-6, 6, -6), (8, -5, 6)],\n",
       " [-1, (-6, 6, -6), (2, -2, 6)],\n",
       " [-1, (-18, 6, 6), (4, -2, 4)],\n",
       " [1, (-12, 12, 0), (3, -3, 5)],\n",
       " [-1, (6, -6, 6), (6, -3, 4)],\n",
       " [1, (0, 6, 0), (7, -5, 5)],\n",
       " [-1, (0, -6, 0), (5, -4, 5)],\n",
       " [1, (-6, 0, 6), (6, -5, 4)],\n",
       " [-1, (-12, 18, -12), (4, -2, 4)],\n",
       " [1, (6, 0, -6), (4, -5, 6)],\n",
       " [1, (-12, 12, 0), (4, -1, 2)],\n",
       " [1, (0, 12, -12), (2, -1, 4)],\n",
       " [-1, (0, 6, 0), (2, 0, 2)],\n",
       " [-1, (0, 6, 0), (-1, 6, -1)],\n",
       " [1, (0, -6, 0), (1, 1, 3)],\n",
       " [1, (12, -12, 0), (5, -1, 3)],\n",
       " [-1, (-6, 6, -6), (2, -1, 4)],\n",
       " [-1, (6, -6, 6), (6, -2, 2)],\n",
       " [-1, (18, -6, -6), (4, -2, 4)],\n",
       " [-1, (6, -6, 6), (0, 1, 2)],\n",
       " [1, (0, 6, 0), (1, -1, 3)],\n",
       " [1, (12, 0, 0), (5, -3, 3)],\n",
       " [-1, (0, -6, 0), (5, 0, 1)],\n",
       " [-1, (0, -12, 12), (5, -2, 5)],\n",
       " [1, (-6, 0, 6), (6, -4, 6)],\n",
       " [1, (6, 0, -6), (4, -1, 2)],\n",
       " [1, (-6, 0, 6), (6, -1, 0)],\n",
       " [1, (6, -12, 18), (4, -2, 4)],\n",
       " [-1, (0, 6, 0), (5, -2, 1)],\n",
       " [-1, (0, 0, 12), (5, -4, 5)],\n",
       " [1, (0, -6, 0), (5, -3, 3)],\n",
       " [-1, (-6, 6, -6), (6, -5, 4)],\n",
       " [-1, (-12, 12, 0), (4, -3, 6)],\n",
       " [1, (-12, 6, 12), (4, -2, 4)],\n",
       " [-1, (6, -6, 6), (4, -3, 2)],\n",
       " [1, (0, 6, 0), (2, -2, 6)],\n",
       " [-1, (0, 0, 12), (2, -1, 4)],\n",
       " [1, (0, 6, 0), (-1, 7, -3)],\n",
       " [1, (-6, 6, -6), (4, 0, 4)],\n",
       " [1, (-6, 6, -6), (7, -6, 7)],\n",
       " [-1, (6, 0, -6), (5, -5, 7)],\n",
       " [-1, (-6, 0, 6), (7, -5, 5)],\n",
       " [-1, (0, 12, -12), (3, -1, 5)],\n",
       " [1, (6, -6, 6), (5, -4, 5)],\n",
       " [-1, (-12, 12, 0), (5, -1, 3)],\n",
       " [1, (-6, 18, -6), (4, -2, 4)],\n",
       " [-1, (0, -6, 0), (1, 0, 5)],\n",
       " [-1, (12, -12, 0), (5, -2, 5)],\n",
       " [1, (6, 0, -6), (6, -4, 6)],\n",
       " [1, (6, 0, -6), (0, -1, 6)],\n",
       " [1, (-6, 0, 6), (2, -1, 4)],\n",
       " [-1, (0, 6, 0), (1, -2, 5)],\n",
       " [1, (18, -12, 6), (4, -2, 4)],\n",
       " [-1, (12, 0, 0), (5, -4, 5)],\n",
       " [1, (0, -6, 0), (3, -3, 5)],\n",
       " [-1, (-6, 6, -6), (4, -5, 6)],\n",
       " [-1, (0, 12, -12), (6, -3, 4)],\n",
       " [-1, (6, -6, 6), (2, -3, 4)],\n",
       " [1, (0, 6, 0), (6, -2, 2)],\n",
       " [1, (12, 6, -12), (4, -2, 4)],\n",
       " [1, (0, 6, 0), (-3, 7, -1)],\n",
       " [-1, (12, 0, 0), (4, -1, 2)],\n",
       " [1, (-6, 6, -6), (7, -4, 3)],\n",
       " [-1, (-6, 0, 6), (4, 0, 4)],\n",
       " [-1, (6, 0, -6), (5, -3, 3)],\n",
       " [-1, (-6, 0, 6), (7, -3, 1)],\n",
       " [1, (-12, 12, 0), (5, -2, 5)],\n",
       " [1, (6, -6, 6), (5, -2, 1)],\n",
       " [1, (0, 0, 12), (3, 0, 3)],\n",
       " [-1, (-6, 12, 6), (4, -2, 4)],\n",
       " [-1, (0, -6, 0), (3, -2, 3)],\n",
       " [1, (6, 0, -6), (2, -3, 4)],\n",
       " [1, (-6, 0, 6), (4, -3, 2)],\n",
       " [-1, (0, 6, 0), (6, -4, 6)],\n",
       " [1, (0, 0, 12), (6, -3, 4)],\n",
       " [-1, (0, 6, 0), (-3, 8, -3)],\n",
       " [1, (12, 0, 0), (4, -3, 6)],\n",
       " [-1, (12, -6, 12), (4, -2, 4)],\n",
       " [-1, (6, 0, -6), (4, 0, 4)],\n",
       " [1, (-6, 6, -6), (3, -4, 7)],\n",
       " [1, (0, 12, -12), (5, -2, 5)],\n",
       " [-1, (6, 0, -6), (1, -3, 7)],\n",
       " [-1, (-6, 0, 6), (3, -3, 5)],\n",
       " [1, (6, -6, 6), (1, -2, 5)],\n",
       " [1, (12, 0, 0), (3, 0, 3)],\n",
       " [-1, (6, 12, -6), (4, -2, 4)],\n",
       " [1, (-6, 6, -6), (3, -2, 3)],\n",
       " [-1, (6, 0, -6), (1, -1, 3)],\n",
       " [-1, (-6, 0, 6), (3, -1, 1)],\n",
       " [1, (6, -6, 6), (4, 0, 4)],\n",
       " [-1, (0, 0, 12), (5, -1, 3)],\n",
       " [1, (6, -6, 6), (1, 0, 1)],\n",
       " [-1, (12, 0, 0), (3, -1, 5)],\n",
       " [1, (6, 6, 6), (4, -2, 4)]]"
      ]
     },
     "execution_count": 42,
     "metadata": {},
     "output_type": "execute_result"
    }
   ],
   "source": [
    "load(\"pySeifert.sage\")\n",
    "S = Seifert([0,1,3,1,2,1,6])\n",
    "b = S.boundary_conditions([\"A\",3],basis = \"weight\")[0]\n",
    "S.s_values([\"A\",3],b,\"weight\")"
   ]
  },
  {
   "cell_type": "code",
   "execution_count": 43,
   "metadata": {
    "vscode": {
     "languageId": "python"
    }
   },
   "outputs": [
    {
     "data": {
      "text/plain": [
       "(z0^5*z1^5 - z0^10/z1^5 - z1^10/z0^5 + z0^5/z1^10 + z1^5/z0^10 - 1/(z0^5*z1^5))*q^17/(z0*z1 - z0^2/z1 - z1^2/z0 + z0/z1^2 + z1/z0^2 - 1/(z0*z1)) - q^5"
      ]
     },
     "execution_count": 43,
     "metadata": {},
     "output_type": "execute_result"
    }
   ],
   "source": [
    "load(\"pySeifert.sage\")\n",
    "S = Seifert([0,1,3,1,2,1,6]);\n",
    "wh = [identity_matrix(2) if d == 1 else matrix(2) for d in S.deg];\n",
    "b = S.boundary_conditions([\"A\",2],basis = \"weight\")[0];\n",
    "expMax = 20;\n",
    "S.chi_tilde([\"A\",2],wh, b, expMax, basis = \"weight\")"
   ]
  },
  {
   "cell_type": "code",
   "execution_count": 44,
   "metadata": {
    "vscode": {
     "languageId": "python"
    }
   },
   "outputs": [
    {
     "data": {
      "text/plain": [
       "-q^(5/4)"
      ]
     },
     "execution_count": 44,
     "metadata": {},
     "output_type": "execute_result"
    }
   ],
   "source": [
    "load(\"pySeifert.sage\")\n",
    "S = Seifert([0,1,3,1,2,1,6]);\n",
    "wh = [identity_matrix(1) if d == 1 else matrix(1) for d in S.deg];\n",
    "b = S.boundary_conditions([\"A\",1],basis = \"weight\")[0];\n",
    "expMax = 20;\n",
    "S.chi_tilde([\"A\",1],wh, b, expMax, basis = \"weight\")"
   ]
  },
  {
   "cell_type": "code",
   "execution_count": 45,
   "metadata": {
    "vscode": {
     "languageId": "python"
    }
   },
   "outputs": [
    {
     "data": {
      "text/plain": [
       "-(z0^4*z1*z2^4 - z0^5*z2^5/z1 - z0^4*z1^5/z2^4 + z0^9*z2/z1^5 - z1^5*z2^4/z0^4 + z0*z2^9/z1^5 + z0^5*z1^4/z2^5 - z0^9/(z1^4*z2) + z1^4*z2^5/z0^5 - z2^9/(z0*z1^4) + z1^9/(z0^4*z2^4) - z0^5*z2^5/z1^9 - z1^9/(z0^5*z2^5) + z0^4*z2^4/z1^9 - z0*z1^4/z2^9 + z0^5/(z1^4*z2^5) - z1^4*z2/z0^9 + z2^5/(z0^5*z1^4) + z1^5/(z0*z2^9) - z0^4/(z1^5*z2^4) + z1^5/(z0^9*z2) - z2^4/(z0^4*z1^5) - z1/(z0^5*z2^5) + 1/(z0^4*z1*z2^4))*q^(25/2)/(z0*z1*z2 - z0^2*z2^2/z1 - z0*z1^2/z2 + z0^3*z2/z1^2 - z1^2*z2/z0 + z0*z2^3/z1^2 + z0^2*z1/z2^2 - z0^3/(z1*z2) + z1^3/(z0*z2) - z0^2*z2^2/z1^3 + z1*z2^2/z0^2 - z2^3/(z0*z1) - z0*z1/z2^3 + z0^2/(z1*z2^2) - z1^3/(z0^2*z2^2) + z0*z2/z1^3 - z1*z2/z0^3 + z2^2/(z0^2*z1) + z1^2/(z0*z2^3) - z0/(z1^2*z2) + z1^2/(z0^3*z2) - z2/(z0*z1^2) - z1/(z0^2*z2^2) + 1/(z0*z1*z2)) + q^(25/2)"
      ]
     },
     "execution_count": 45,
     "metadata": {},
     "output_type": "execute_result"
    }
   ],
   "source": [
    "load(\"pySeifert.sage\")\n",
    "S = Seifert([0,1,3,1,2,1,6]);\n",
    "wh = [identity_matrix(3) if d == 1 else matrix(3) for d in S.deg];\n",
    "b = S.boundary_conditions([\"A\",3],basis = \"weight\")[0];\n",
    "expMax = 20;\n",
    "S.chi_tilde([\"A\",3],wh, b, expMax, basis = \"weight\")"
   ]
  },
  {
   "cell_type": "code",
   "execution_count": 57,
   "metadata": {
    "vscode": {
     "languageId": "python"
    }
   },
   "outputs": [
    {
     "data": {
      "text/plain": [
       "-(z0^6*z1^6 - z0^12/z1^6 - z1^12/z0^6 + z0^6/z1^12 + z1^6/z0^12 - 1/(z0^6*z1^6))*q^(415/9)/(z0*z1 - z0^2/z1 - z1^2/z0 + z0/z1^2 + z1/z0^2 - 1/(z0*z1)) + 2*(z0^6*z1^6 - z0^12/z1^6 - z1^12/z0^6 + z0^6/z1^12 + z1^6/z0^12 - 1/(z0^6*z1^6))*q^(397/9)/(z0*z1 - z0^2/z1 - z1^2/z0 + z0/z1^2 + z1/z0^2 - 1/(z0*z1)) - 2*(z0^6*z1^6 - z0^12/z1^6 - z1^12/z0^6 + z0^6/z1^12 + z1^6/z0^12 - 1/(z0^6*z1^6))*q^(361/9)/(z0*z1 - z0^2/z1 - z1^2/z0 + z0/z1^2 + z1/z0^2 - 1/(z0*z1)) + (z0^6*z1^6 - z0^12/z1^6 - z1^12/z0^6 + z0^6/z1^12 + z1^6/z0^12 - 1/(z0^6*z1^6))*q^(343/9)/(z0*z1 - z0^2/z1 - z1^2/z0 + z0/z1^2 + z1/z0^2 - 1/(z0*z1))"
      ]
     },
     "execution_count": 57,
     "metadata": {},
     "output_type": "execute_result"
    }
   ],
   "source": [
    "load(\"pySeifert.sage\")\n",
    "S = Seifert([0,1,3,1,2,1,6]);\n",
    "wh = [identity_matrix(2) if d == 1 else matrix(2) for d in S.deg];\n",
    "b = S.boundary_conditions([\"A\",2],basis = \"weight\")[0];\n",
    "expMax = 100;\n",
    "nu, leg = vector([3,3]), 0;\n",
    "S.chi_tilde_wilson_end([\"A\",2],wh, b, expMax, nu, leg, basis = \"weight\", qvar=None)"
   ]
  },
  {
   "cell_type": "code",
   "execution_count": 69,
   "metadata": {
    "vscode": {
     "languageId": "python"
    }
   },
   "outputs": [
    {
     "data": {
      "text/plain": [
       "(z0*z1^5*z2^5 - z0^6*z2^10/z1^5 - z1^6*z2^5/z0 + z0^5*z2^11/z1^6 - z0*z1^10/z2^5 + z0^11*z2^5/z1^10 + z1^11/(z0*z2^5) - z0^10*z2^6/z1^11 + z1*z2^10/z0^6 - z2^11/(z0^5*z1) + z0^6*z1^5/z2^10 - z0^11/(z1^5*z2^5) - z0^5*z1^5/z2^11 + z0^10/(z1^5*z2^6) - z1^11/(z0^6*z2^10) + z0^5*z2/z1^11 - z1*z2^5/z0^11 + z2^6/(z0^10*z1) + z1^10/(z0^5*z2^11) - z0^5/(z1^10*z2) + z1^6/(z0^11*z2^5) - z2/(z0^5*z1^6) - z1^5/(z0^10*z2^6) + 1/(z0^5*z1^5*z2))*q^(822927/4394)/(z0*z1*z2 - z0^2*z2^2/z1 - z0*z1^2/z2 + z0^3*z2/z1^2 - z1^2*z2/z0 + z0*z2^3/z1^2 + z0^2*z1/z2^2 - z0^3/(z1*z2) + z1^3/(z0*z2) - z0^2*z2^2/z1^3 + z1*z2^2/z0^2 - z2^3/(z0*z1) - z0*z1/z2^3 + z0^2/(z1*z2^2) - z1^3/(z0^2*z2^2) + z0*z2/z1^3 - z1*z2/z0^3 + z2^2/(z0^2*z1) + z1^2/(z0*z2^3) - z0/(z1^2*z2) + z1^2/(z0^3*z2) - z2/(z0*z1^2) - z1/(z0^2*z2^2) + 1/(z0*z1*z2))"
      ]
     },
     "execution_count": 69,
     "metadata": {},
     "output_type": "execute_result"
    }
   ],
   "source": [
    "load(\"pySeifert.sage\")\n",
    "S = Seifert([-1,1,3,1,4,1,5]);\n",
    "wh = [identity_matrix(3) if d == 1 else matrix(3) for d in S.deg];\n",
    "b = S.boundary_conditions([\"A\",3],basis = \"weight\")[0];\n",
    "expMax = 200;\n",
    "nu, leg = vector([1,2,1]), 0;\n",
    "S.chi_tilde_wilson_end([\"A\",3],wh, b, expMax, nu, leg, basis = \"weight\", qvar=None)"
   ]
  },
  {
   "cell_type": "code",
   "execution_count": 74,
   "metadata": {
    "vscode": {
     "languageId": "python"
    }
   },
   "outputs": [
    {
     "data": {
      "text/plain": [
       "q^(67/64)"
      ]
     },
     "execution_count": 74,
     "metadata": {},
     "output_type": "execute_result"
    }
   ],
   "source": [
    "load(\"pySeifert.sage\")\n",
    "S = Seifert([-1,2,3,-1,2,-1,2]);\n",
    "wh,wp = [identity_matrix(2) if d == 1 else matrix(2) for d in S.deg], identity_matrix(2)\n",
    "b = S.boundary_conditions([\"A\",2],basis = \"weight\")[0];\n",
    "expMax = 19;\n",
    "sig, leg,step = vector([1,1]), 0, 1;\n",
    "S.chi_tilde_wilson_mid([\"A\",2], wh, wp, b, expMax, sig, leg, step, basis = \"weight\", qvar=None)"
   ]
  },
  {
   "cell_type": "code",
   "execution_count": 75,
   "metadata": {
    "vscode": {
     "languageId": "python"
    }
   },
   "outputs": [
    {
     "data": {
      "text/plain": [
       "q^(145/4)*z^2/(z^2 + 1/z^2 - 2) - 2*q^(145/4)/(z^2 + 1/z^2 - 2) + q^(145/4)/((z^2 + 1/z^2 - 2)*z^2)"
      ]
     },
     "execution_count": 75,
     "metadata": {},
     "output_type": "execute_result"
    }
   ],
   "source": [
    "load(\"pySeifert.sage\")\n",
    "S = Seifert([-2, 1, 2, 2, 3, 2, 5, 3, 7]);\n",
    "wh, expMax =  [identity_matrix(1) if d == 1 else matrix(1) for d in S.deg], 100;\n",
    "S.chi_prime_4f_sph(wh,expMax, basis = \"weight\")\n"
   ]
  },
  {
   "cell_type": "code",
   "execution_count": 32,
   "metadata": {
    "vscode": {
     "languageId": "python"
    }
   },
   "outputs": [
    {
     "data": {
      "text/plain": [
       "-q^(197/4) + q^(101/4) - q^(5/4) + q^(1/4)"
      ]
     },
     "execution_count": 32,
     "metadata": {},
     "output_type": "execute_result"
    }
   ],
   "source": [
    "load(\"pySeifert.sage\")\n",
    "S = Seifert([0,1,3,1,2,1,6]);\n",
    "b = S.boundary_conditions([\"A\",1],basis = \"root\")[0];\n",
    "expMax = 100;\n",
    "S.z_hat([\"A\",1], b, expMax, basis = \"root\")"
   ]
  },
  {
   "cell_type": "code",
   "execution_count": 33,
   "metadata": {
    "vscode": {
     "languageId": "python"
    }
   },
   "outputs": [
    {
     "data": {
      "text/plain": [
       "-2*q^94 - 2*q^92 + 2*q^77 + 2*q^76 + q^65 + 4*q^58 + 2*q^53 - 4*q^50 - 2*q^44 - 2*q^40 + 4*q^32 - 4*q^29 + 2*q^26 - 2*q^22 + q^17 + q^5 + 2*q^4 - 4*q^2 + q"
      ]
     },
     "execution_count": 33,
     "metadata": {},
     "output_type": "execute_result"
    }
   ],
   "source": [
    "load(\"pySeifert.sage\")\n",
    "S = Seifert([0,1,3,1,2,1,6]);\n",
    "b = S.boundary_conditions([\"A\",2],basis = \"root\")[0];\n",
    "expMax = 100;\n",
    "S.z_hat([\"A\",2], b, expMax, basis = \"root\")"
   ]
  },
  {
   "cell_type": "code",
   "execution_count": 34,
   "metadata": {
    "vscode": {
     "languageId": "python"
    }
   },
   "outputs": [],
   "source": [
    "load(\"pySeifert.sage\")\n",
    "S = Seifert([0,1,3,1,2,1,6]);\n",
    "b = S.boundary_conditions([\"A\",3],basis = \"root\")[0];\n",
    "expMax = 100;\n",
    "S.z_hat([\"A\",3], b, expMax, basis = \"root\")"
   ]
  },
  {
   "cell_type": "code",
   "execution_count": null,
   "metadata": {
    "vscode": {
     "languageId": "python"
    }
   },
   "outputs": [],
   "source": []
  }
 ],
 "metadata": {
  "kernelspec": {
   "display_name": "SageMath 9.6",
   "language": "sage",
   "name": "sagemath"
  },
  "language_info": {
   "codemirror_mode": {
    "name": "ipython",
    "version": 3
   },
   "file_extension": ".py",
   "mimetype": "text/x-python",
   "name": "python",
   "nbconvert_exporter": "python",
   "pygments_lexer": "ipython3",
   "version": "3.10.4"
  },
  "vscode": {
   "interpreter": {
    "hash": "e7370f93d1d0cde622a1f8e1c04877d8463912d04d973331ad4851f04de6915a"
   }
  }
 },
 "nbformat": 4,
 "nbformat_minor": 2
}
