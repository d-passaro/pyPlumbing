{
 "cells": [
  {
   "cell_type": "markdown",
   "metadata": {},
   "source": [
    "# Tests for appendix B of higher rank chars June2021"
   ]
  },
  {
   "cell_type": "code",
   "execution_count": 40,
   "metadata": {},
   "outputs": [],
   "source": [
    "load(\"pySeifert.sage\")"
   ]
  },
  {
   "cell_type": "markdown",
   "metadata": {},
   "source": [
    "## Properties of the parentheses B.5-B.8"
   ]
  },
  {
   "cell_type": "code",
   "execution_count": 41,
   "metadata": {},
   "outputs": [],
   "source": [
    "S = Seifert([-1,1,2,1,3,1,9])\n",
    "S2 = Seifert([-1,1,3,-1,2,-1,2])\n",
    "rk=2\n",
    "expMax = 300"
   ]
  },
  {
   "cell_type": "code",
   "execution_count": 7,
   "metadata": {},
   "outputs": [],
   "source": [
    "b0,b1 = S.bSet(rk)"
   ]
  },
  {
   "cell_type": "code",
   "execution_count": 15,
   "metadata": {},
   "outputs": [
    {
     "name": "stderr",
     "output_type": "stream",
     "text": [
      "<ipython-input-15-1d0d158735dc>:1: VisibleDeprecationWarning: Creating an ndarray from ragged nested sequences (which is a list-or-tuple of lists-or-tuples-or ndarrays with different lengths or shapes) is deprecated. If you meant to do this, you must specify 'dtype=object' when creating the ndarray\n",
      "  s = np.array(S.sVals(rk,b0))[:,Integer(1)]\n",
      "<ipython-input-15-1d0d158735dc>:2: VisibleDeprecationWarning: Creating an ndarray from ragged nested sequences (which is a list-or-tuple of lists-or-tuples-or ndarrays with different lengths or shapes) is deprecated. If you meant to do this, you must specify 'dtype=object' when creating the ndarray\n",
      "  s2 = np.array(S2.sVals(rk,b0))[:,Integer(1)]\n"
     ]
    }
   ],
   "source": [
    "s = (np.array(S.sVals(rk,b0))[:,1]).tolist()\n",
    "s2 = np.array(S2.sVals(rk,b0))[:,1].tolist()"
   ]
  },
  {
   "cell_type": "code",
   "execution_count": 42,
   "metadata": {},
   "outputs": [],
   "source": [
    "a = randint(-10,10)\n",
    "b = randint(-10,10)"
   ]
  },
  {
   "cell_type": "code",
   "execution_count": 50,
   "metadata": {},
   "outputs": [
    {
     "data": {
      "text/plain": [
       "[True, True, True]"
      ]
     },
     "execution_count": 50,
     "metadata": {},
     "output_type": "execute_result"
    }
   ],
   "source": [
    "[bool(par(a,b,s[i],S.m,expMax) == par(b,a,s[i],S.m,expMax)) for i in range(3)]"
   ]
  },
  {
   "cell_type": "code",
   "execution_count": 51,
   "metadata": {},
   "outputs": [
    {
     "data": {
      "text/plain": [
       "[True, True, True]"
      ]
     },
     "execution_count": 51,
     "metadata": {},
     "output_type": "execute_result"
    }
   ],
   "source": [
    "[bool(par(a,b,s2[i],S2.m,expMax) == par(b,a,s2[i],S2.m,expMax)) for i in range(3)]"
   ]
  },
  {
   "cell_type": "code",
   "execution_count": 54,
   "metadata": {},
   "outputs": [
    {
     "data": {
      "text/plain": [
       "[False, False, False]"
      ]
     },
     "execution_count": 54,
     "metadata": {},
     "output_type": "execute_result"
    }
   ],
   "source": [
    "[bool(par0(a,b,s[i],S.m,expMax) == par0(b,a,s[i],S.m,expMax)) for i in range(3)]"
   ]
  },
  {
   "cell_type": "code",
   "execution_count": 52,
   "metadata": {},
   "outputs": [
    {
     "data": {
      "text/plain": [
       "[False, False, False]"
      ]
     },
     "execution_count": 52,
     "metadata": {},
     "output_type": "execute_result"
    }
   ],
   "source": [
    "[bool(par0(a,b,s2[i],S2.m,expMax) == par0(b,a,s2[i],S2.m,expMax)) for i in range(3)]"
   ]
  },
  {
   "cell_type": "code",
   "execution_count": 55,
   "metadata": {},
   "outputs": [
    {
     "data": {
      "text/plain": [
       "[True, True, True]"
      ]
     },
     "execution_count": 55,
     "metadata": {},
     "output_type": "execute_result"
    }
   ],
   "source": [
    "[bool(par0(a,b,s[i],S.m,expMax) == par0(a+b,-b,s[i],S.m,expMax)) for i in range(3)]"
   ]
  },
  {
   "cell_type": "code",
   "execution_count": 56,
   "metadata": {},
   "outputs": [
    {
     "data": {
      "text/plain": [
       "[True, True, True]"
      ]
     },
     "execution_count": 56,
     "metadata": {},
     "output_type": "execute_result"
    }
   ],
   "source": [
    "[bool(par0(a,b,s2[i],S2.m,expMax) == par0(a+b,-b,s2[i],S2.m,expMax)) for i in range(3)]"
   ]
  },
  {
   "cell_type": "code",
   "execution_count": 75,
   "metadata": {},
   "outputs": [
    {
     "data": {
      "text/plain": [
       "[True, True, True]"
      ]
     },
     "execution_count": 75,
     "metadata": {},
     "output_type": "execute_result"
    }
   ],
   "source": [
    "[bool(par(a-S.m,b+2*S.m,s[i],S.m,expMax) == q^(-b-S.m)*(par(a,b,s[i],S.m,expMax-(-b-S.m))-par0(a,b,s[i],S.m,expMax-(-b-S.m)))) for i in range(3)]"
   ]
  },
  {
   "cell_type": "code",
   "execution_count": 74,
   "metadata": {},
   "outputs": [
    {
     "data": {
      "text/plain": [
       "[True, True, True]"
      ]
     },
     "execution_count": 74,
     "metadata": {},
     "output_type": "execute_result"
    }
   ],
   "source": [
    "[bool(par(a-S2.m,b+2*S2.m,s2[i],S2.m,expMax) == q^(-b-S2.m)*(par(a,b,s2[i],S2.m,expMax-(-b-S2.m))-par0(a,b,s2[i],S2.m,expMax-(-b-S2.m)))) for i in range(3)]"
   ]
  },
  {
   "cell_type": "code",
   "execution_count": 84,
   "metadata": {},
   "outputs": [
    {
     "data": {
      "text/plain": [
       "[True, True, True]"
      ]
     },
     "execution_count": 84,
     "metadata": {},
     "output_type": "execute_result"
    }
   ],
   "source": [
    "[bool(par(a+S.m,b-2*S.m,s[i],S.m,expMax) == q^(b-S.m)*(par(a,b,s[i],S.m,expMax-(b-S.m)))+par0(a+S.m,b-2*S.m,s[i],S.m,expMax)) for i in range(3)]"
   ]
  },
  {
   "cell_type": "code",
   "execution_count": 86,
   "metadata": {},
   "outputs": [
    {
     "data": {
      "text/plain": [
       "[True, True, True]"
      ]
     },
     "execution_count": 86,
     "metadata": {},
     "output_type": "execute_result"
    }
   ],
   "source": [
    "[bool(par(a+S2.m,b-2*S2.m,s2[i],S2.m,expMax) == q^(b-S2.m)*(par(a,b,s2[i],S2.m,expMax-(b-S2.m)))+par0(a+S2.m,b-2*S2.m,s2[i],S2.m,expMax)) for i in range(3)]"
   ]
  },
  {
   "cell_type": "markdown",
   "metadata": {},
   "source": [
    "## Singlet character"
   ]
  },
  {
   "cell_type": "code",
   "execution_count": 105,
   "metadata": {},
   "outputs": [],
   "source": [
    "def LogVOASingChi2(s,m,expMax,q = var(\"q\")):\n",
    "    WG,WL = AWeylGroup(2,WL=True)\n",
    "    flip = matrix.diagonal([-1,1])\n",
    "    st = -flip*s\n",
    "    chi = list()\n",
    "    for g,l in zip(WG,WL):\n",
    "        t = (-1)^l*flip*g*st\n",
    "        chi.append((-1)^l*q^(m+t[0]+t[1])*(par(m+t[0],m+t[1],s,m,expMax-m-t[0]-t[1])))\n",
    "    return sum(chi).expand()"
   ]
  },
  {
   "cell_type": "code",
   "execution_count": 114,
   "metadata": {},
   "outputs": [
    {
     "data": {
      "text/plain": [
       "[True, True, True]"
      ]
     },
     "execution_count": 114,
     "metadata": {},
     "output_type": "execute_result"
    }
   ],
   "source": [
    "[bool(((1/(z1*z0)*S.LogVOATripChi(s[i],vector([0,0]),expMax)).maxima_methods().residue(z1,0)).maxima_methods().residue(z0,0) == LogVOASingChi2(s[i],S.m,expMax)) for i in range(3)]"
   ]
  },
  {
   "cell_type": "code",
   "execution_count": 115,
   "metadata": {},
   "outputs": [
    {
     "data": {
      "text/plain": [
       "[True, True, True]"
      ]
     },
     "execution_count": 115,
     "metadata": {},
     "output_type": "execute_result"
    }
   ],
   "source": [
    "[bool(((1/(z1*z0)*S2.LogVOATripChi(s2[i],vector([0,0]),expMax)).maxima_methods().residue(z1,0)).maxima_methods().residue(z0,0) == LogVOASingChi2(s2[i],S2.m,expMax)) for i in range(3)]"
   ]
  },
  {
   "cell_type": "code",
   "execution_count": null,
   "metadata": {},
   "outputs": [],
   "source": []
  }
 ],
 "metadata": {
  "kernelspec": {
   "display_name": "SageMath 9.3",
   "language": "sage",
   "name": "sagemath"
  },
  "language_info": {
   "codemirror_mode": {
    "name": "ipython",
    "version": 3
   },
   "file_extension": ".py",
   "mimetype": "text/x-python",
   "name": "python",
   "nbconvert_exporter": "python",
   "pygments_lexer": "ipython3",
   "version": "3.9.2"
  }
 },
 "nbformat": 4,
 "nbformat_minor": 4
}
