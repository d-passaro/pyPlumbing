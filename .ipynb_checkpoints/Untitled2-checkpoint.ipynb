{
 "cells": [
  {
   "cell_type": "code",
   "execution_count": 81,
   "id": "ff664151",
   "metadata": {},
   "outputs": [],
   "source": [
    "import itertools\n",
    "load(\"pySeifert.sage\")"
   ]
  },
  {
   "cell_type": "code",
   "execution_count": 82,
   "id": "0895a5d7",
   "metadata": {},
   "outputs": [
    {
     "name": "stdout",
     "output_type": "stream",
     "text": [
      "-1 -1 -2\n"
     ]
    }
   ],
   "source": [
    "p1,p2,p3 = 2,2,2\n",
    "alpha = gcd(gcd(p1,p2),p3)\n",
    "beta = gcd(p1,p2)/alpha\n",
    "gamma = gcd(p1,p3)/alpha\n",
    "eta = gcd(p2,p3)/alpha\n",
    "d1,d2,d3 = p1/(alpha*beta*gamma), p2/(alpha*beta*eta), p3/(alpha*eta*gamma)\n",
    "for k1,k2,k3 in itertools.product([-1,1,2,-2], repeat=3):\n",
    "    if (k1*eta*d2*d3 + k2*gamma*d1*d3 + k3*beta*d1*d2)/(alpha*beta*gamma*eta*d1*d2*d3) in ZZ and (k1*eta*d2*d3 + k2*gamma*d1*d3 + k3*beta*d1*d2) != 0:\n",
    "        print(k1,k2,k3)\n",
    "        break"
   ]
  },
  {
   "cell_type": "code",
   "execution_count": 83,
   "id": "5dc30079",
   "metadata": {},
   "outputs": [],
   "source": [
    "bad = list()\n",
    "for p1,p2,p3 in list(itertools.combinations_with_replacement(sorted([product(t) for t in itertools.combinations_with_replacement([1,2,3,5],r=3)]),r=3)):\n",
    "    if 1 in [p1,p2,p3]:\n",
    "        continue\n",
    "    alpha = gcd(gcd(p1,p2),p3)\n",
    "    beta = gcd(p1,p2)/alpha\n",
    "    gamma = gcd(p1,p3)/alpha\n",
    "    eta = gcd(p2,p3)/alpha\n",
    "    d1,d2,d3 = p1/(alpha*beta*gamma), p2/(alpha*beta*eta), p3/(alpha*eta*gamma)\n",
    "    for k1,k2,k3 in itertools.product([-1,1,2,-2], repeat=3):\n",
    "        if (k1*eta*d2*d3 + k2*gamma*d1*d3 + k3*beta*d1*d2)/(alpha*beta*gamma*eta*d1*d2*d3) in ZZ and (k1*eta*d2*d3 + k2*gamma*d1*d3 + k3*beta*d1*d2) != 0:\n",
    "            bad += [(p1,p2,p3)]\n",
    "            break"
   ]
  },
  {
   "cell_type": "code",
   "execution_count": 95,
   "id": "7f3fd7e8",
   "metadata": {},
   "outputs": [
    {
     "data": {
      "text/plain": [
       "[(2, 2, 2),\n",
       " (2, 2, 4),\n",
       " (2, 3, 3),\n",
       " (2, 3, 6),\n",
       " (2, 3, 12),\n",
       " (2, 4, 4),\n",
       " (2, 4, 8),\n",
       " (2, 5, 5),\n",
       " (2, 5, 10),\n",
       " (2, 5, 20),\n",
       " (2, 6, 6),\n",
       " (2, 6, 12),\n",
       " (2, 8, 8),\n",
       " (2, 9, 9),\n",
       " (2, 9, 18),\n",
       " (2, 10, 10),\n",
       " (2, 10, 20),\n",
       " (2, 12, 12),\n",
       " (2, 15, 15),\n",
       " (2, 15, 30),\n",
       " (2, 18, 18),\n",
       " (2, 20, 20),\n",
       " (2, 25, 25),\n",
       " (2, 25, 50),\n",
       " (2, 27, 27),\n",
       " (2, 30, 30),\n",
       " (2, 45, 45),\n",
       " (2, 50, 50),\n",
       " (2, 75, 75),\n",
       " (2, 125, 125),\n",
       " (3, 3, 3),\n",
       " (3, 3, 6),\n",
       " (3, 4, 6),\n",
       " (3, 4, 12),\n",
       " (3, 5, 15),\n",
       " (3, 5, 30),\n",
       " (3, 6, 6),\n",
       " (3, 6, 12),\n",
       " (3, 8, 12),\n",
       " (3, 9, 9),\n",
       " (3, 9, 18),\n",
       " (3, 10, 15),\n",
       " (3, 12, 12),\n",
       " (4, 4, 4),\n",
       " (4, 4, 8),\n",
       " (4, 5, 10),\n",
       " (4, 5, 20),\n",
       " (4, 6, 6),\n",
       " (4, 6, 12),\n",
       " (4, 8, 8),\n",
       " (5, 5, 5),\n",
       " (5, 5, 10),\n",
       " (6, 6, 6)]"
      ]
     },
     "execution_count": 95,
     "metadata": {},
     "output_type": "execute_result"
    }
   ],
   "source": [
    "bad"
   ]
  },
  {
   "cell_type": "code",
   "execution_count": 121,
   "id": "190890b1",
   "metadata": {},
   "outputs": [
    {
     "name": "stdout",
     "output_type": "stream",
     "text": [
      "Seifert manifold with 3 exceptional fibers.\n",
      "Seifert data:\n",
      "[-1, 1, 2, 1, 2, 1, 2]\n",
      "Plumbing Matrix:\n",
      "[-1  1  1  1]\n",
      "[ 1 -2  0  0]\n",
      "[ 1  0 -2  0]\n",
      "[ 1  0  0 -2]\n",
      "D: 1, m: 2, det(M): -4\n",
      "1 1 1\n",
      "((-3, -3), (-1, -1), (-1, -1), (1, 1), (3, -6), (1, -2), (1, -2), (-1, 2), (-6, 3), (-2, 1), (-2, 1), (2, -1), (1, -2), (-1, 2), (-1, 2), (-3, 6), (-2, 1), (2, -1), (2, -1), (6, -3), (-1, -1), (1, 1), (1, 1), (3, 3))\n",
      "((-1, -4), (-3, 0), (1, -2), (-1, 2), (1, -5), (3, -3), (-1, -1), (1, 1), (-1, -1), (1, 1), (-3, 3), (-1, 5), (1, -2), (-1, 2), (3, 0), (1, 4))\n",
      "((-1, -4), (1, -2), (-3, 0), (-1, 2), (1, -5), (-1, -1), (3, -3), (1, 1), (-1, -1), (-3, 3), (1, 1), (-1, 5), (1, -2), (3, 0), (-1, 2), (1, 4))\n",
      "((1, -5), (-1, -1), (-1, -1), (-3, 3), (-1, -4), (1, -2), (1, -2), (3, 0), (-3, 0), (-1, 2), (-1, 2), (1, 4), (3, -3), (1, 1), (1, 1), (-1, 5))\n",
      "End\n"
     ]
    }
   ],
   "source": [
    "p1,p2,p3 = 2,2,2\n",
    "S = Seifert([-1,1,p1,1,p2,1,p3]);S\n",
    "print(S)\n",
    "if S.d == 1:\n",
    "    alpha = gcd(gcd(p1,p2),p3)\n",
    "    beta = gcd(p1,p2)/alpha\n",
    "    gamma = gcd(p1,p3)/alpha\n",
    "    eta = gcd(p2,p3)/alpha\n",
    "    d1,d2,d3 = p1/(alpha*beta*gamma), p2/(alpha*beta*eta), p3/(alpha*eta*gamma)\n",
    "    print(eta*d2*d3,gamma*d1*d3,beta*d1*d2)\n",
    "    B = S.boundary_conditions([\"A\",2],basis=\"weight\")\n",
    "    for b in B:\n",
    "        l,s,k = zip(*S.s_values([\"A\",2],b))\n",
    "        print(s)\n",
    "    print(\"End\")"
   ]
  },
  {
   "cell_type": "code",
   "execution_count": 122,
   "id": "7921184d",
   "metadata": {},
   "outputs": [
    {
     "data": {
      "text/plain": [
       "[[-1, (-3, -3), (0, 0)],\n",
       " [1, (-1, -1), (0, 0)],\n",
       " [1, (-1, -1), (0, 0)],\n",
       " [-1, (1, 1), (0, 0)],\n",
       " [1, (3, -6), (0, 0)],\n",
       " [-1, (1, -2), (0, 0)],\n",
       " [-1, (1, -2), (0, 0)],\n",
       " [1, (-1, 2), (0, 0)],\n",
       " [1, (-6, 3), (0, 0)],\n",
       " [-1, (-2, 1), (0, 0)],\n",
       " [-1, (-2, 1), (0, 0)],\n",
       " [1, (2, -1), (0, 0)],\n",
       " [-1, (1, -2), (0, 0)],\n",
       " [1, (-1, 2), (0, 0)],\n",
       " [1, (-1, 2), (0, 0)],\n",
       " [-1, (-3, 6), (0, 0)],\n",
       " [-1, (-2, 1), (0, 0)],\n",
       " [1, (2, -1), (0, 0)],\n",
       " [1, (2, -1), (0, 0)],\n",
       " [-1, (6, -3), (0, 0)],\n",
       " [1, (-1, -1), (0, 0)],\n",
       " [-1, (1, 1), (0, 0)],\n",
       " [-1, (1, 1), (0, 0)],\n",
       " [1, (3, 3), (0, 0)]]"
      ]
     },
     "execution_count": 122,
     "metadata": {},
     "output_type": "execute_result"
    }
   ],
   "source": [
    "S.s_values([\"A\",2],B[0])"
   ]
  },
  {
   "cell_type": "code",
   "execution_count": null,
   "id": "40d63408",
   "metadata": {},
   "outputs": [],
   "source": []
  },
  {
   "cell_type": "code",
   "execution_count": 111,
   "id": "4a43148f",
   "metadata": {},
   "outputs": [
    {
     "data": {
      "text/plain": [
       "[3, 5, 30]"
      ]
     },
     "execution_count": 111,
     "metadata": {},
     "output_type": "execute_result"
    }
   ],
   "source": [
    "S.p"
   ]
  },
  {
   "cell_type": "code",
   "execution_count": 114,
   "id": "28827f1f",
   "metadata": {},
   "outputs": [
    {
     "data": {
      "text/plain": [
       "15"
      ]
     },
     "execution_count": 114,
     "metadata": {},
     "output_type": "execute_result"
    }
   ],
   "source": [
    "S.m"
   ]
  },
  {
   "cell_type": "code",
   "execution_count": 117,
   "id": "3047d018",
   "metadata": {},
   "outputs": [
    {
     "data": {
      "text/plain": [
       "[3, 5, 30]"
      ]
     },
     "execution_count": 117,
     "metadata": {},
     "output_type": "execute_result"
    }
   ],
   "source": [
    "S.p"
   ]
  },
  {
   "cell_type": "code",
   "execution_count": null,
   "id": "b238649e",
   "metadata": {},
   "outputs": [],
   "source": []
  }
 ],
 "metadata": {
  "kernelspec": {
   "display_name": "SageMath 9.6",
   "language": "sage",
   "name": "sagemath"
  },
  "language_info": {
   "codemirror_mode": {
    "name": "ipython",
    "version": 3
   },
   "file_extension": ".py",
   "mimetype": "text/x-python",
   "name": "python",
   "nbconvert_exporter": "python",
   "pygments_lexer": "ipython3",
   "version": "3.10.4"
  }
 },
 "nbformat": 4,
 "nbformat_minor": 5
}
