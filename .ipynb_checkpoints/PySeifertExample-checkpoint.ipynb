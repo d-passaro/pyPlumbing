{
 "cells": [
  {
   "cell_type": "markdown",
   "metadata": {},
   "source": [
    "# Example usage of pySeifert package for sage"
   ]
  },
  {
   "cell_type": "markdown",
   "metadata": {},
   "source": [
    "pySeifert is a small package written in python/sage. pySeifert offers some functions which are useful for studying Seifert manifolds with three or four fiber and their WRT invariants with respect to some ADE groups. pySeifert requires SageMath to be installed, along with some other common python packages. Is is tested on SageMath 9.3."
   ]
  },
  {
   "cell_type": "markdown",
   "metadata": {},
   "source": [
    "The package needs first to be loaded. We load it with the load command of sage. This automatically imports also all other libraries which pySeifert needs."
   ]
  },
  {
   "cell_type": "code",
   "execution_count": 1,
   "metadata": {},
   "outputs": [],
   "source": [
    "load(\"pySeifert.sage\")"
   ]
  },
  {
   "cell_type": "markdown",
   "metadata": {},
   "source": [
    "The main class in pySeifert is the Seifert class. It is initialized with the Seifert data of a particular Seifert manifold. The data should be formatted as a list: $\\left[b,q_1,p_1,...,q_f,p_f\\right]$"
   ]
  },
  {
   "cell_type": "code",
   "execution_count": 2,
   "metadata": {},
   "outputs": [],
   "source": [
    "S, S2, S3 = Seifert([-1,1,2,1,3,1,9]), Seifert([-1,1,2,1,3,1,5]), Seifert([-2,1,2,1,3,1,2])"
   ]
  },
  {
   "cell_type": "markdown",
   "metadata": {},
   "source": [
    "Some information regarding the Seifert manifold can then be readily obtained:"
   ]
  },
  {
   "cell_type": "code",
   "execution_count": 8,
   "metadata": {},
   "outputs": [
    {
     "name": "stdout",
     "output_type": "stream",
     "text": [
      "[[(1/2), (-1/2), (-1/2), (-1/2)], [(5/2), (-1/2), (-9/2), (-13/2)]]\n",
      "[[(1, 1), (-1, -1), (-1, -1), (-1, -1)]]\n"
     ]
    }
   ],
   "source": [
    "print(S.bSet(rk = 1))\n",
    "print(S2.bSet(2))"
   ]
  },
  {
   "cell_type": "code",
   "execution_count": 9,
   "metadata": {},
   "outputs": [],
   "source": [
    "S4= Seifert([-1,1,2,1,3,1,25])"
   ]
  },
  {
   "cell_type": "code",
   "execution_count": 16,
   "metadata": {},
   "outputs": [],
   "source": [
    "b0=S4.bSet(rk = 2)[0]"
   ]
  },
  {
   "cell_type": "code",
   "execution_count": 20,
   "metadata": {},
   "outputs": [],
   "source": [
    "?S4.sVals"
   ]
  },
  {
   "cell_type": "code",
   "execution_count": 22,
   "metadata": {},
   "outputs": [
    {
     "name": "stdout",
     "output_type": "stream",
     "text": [
      "  wl  s             κ           Group elements\n",
      "----  ------------  ----------  ----------------\n",
      "   0  (-131, -131)  [(0, 17)]   (0, 0, 0)\n",
      "   1  (-119, -137)  [(16, 17)]  (0, 0, 1)\n",
      "   1  (-137, -119)  [(0, 14)]   (0, 0, 2)\n",
      "   0  (-113, -131)  [(13, 14)]  (0, 0, 3)\n",
      "   0  (-131, -113)  [(16, 11)]  (0, 0, 4)\n",
      "   1  (-119, -119)  [(13, 11)]  (0, 0, 5)\n",
      "   1  (-31, -181)   [(13, 17)]  (0, 1, 0)\n",
      "   2  (-19, -187)   [(10, 17)]  (0, 1, 1)\n",
      "   2  (-37, -169)   [(13, 14)]  (0, 1, 2)\n",
      "   1  (-13, -181)   [(7, 14)]   (0, 1, 3)\n",
      "   1  (-31, -163)   [(10, 11)]  (0, 1, 4)\n",
      "   2  (-19, -169)   [(7, 11)]   (0, 1, 5)\n",
      "   1  (-181, -31)   [(0, 11)]   (0, 2, 0)\n",
      "   2  (-169, -37)   [(16, 11)]  (0, 2, 1)\n",
      "   2  (-187, -19)   [(0, 8)]    (0, 2, 2)\n",
      "   1  (-163, -31)   [(13, 8)]   (0, 2, 3)\n",
      "   1  (-181, -13)   [(16, 5)]   (0, 2, 4)\n",
      "   2  (-169, -19)   [(13, 5)]   (0, 2, 5)\n",
      "   0  (19, -131)    [(7, 11)]   (0, 3, 0)\n",
      "   1  (31, -137)    [(4, 11)]   (0, 3, 1)\n",
      "   1  (13, -119)    [(7, 8)]    (0, 3, 2)\n",
      "   0  (37, -131)    [(1, 8)]    (0, 3, 3)\n",
      "   0  (19, -113)    [(4, 5)]    (0, 3, 4)\n",
      "   1  (31, -119)    [(1, 5)]    (0, 3, 5)\n",
      "   0  (-131, 19)    [(13, 5)]   (0, 4, 0)\n",
      "   1  (-119, 13)    [(10, 5)]   (0, 4, 1)\n",
      "   1  (-137, 31)    [(13, 2)]   (0, 4, 2)\n",
      "   0  (-113, 19)    [(7, 2)]    (0, 4, 3)\n",
      "   0  (-131, 37)    [(10, -1)]  (0, 4, 4)\n",
      "   1  (-119, 31)    [(7, -1)]   (0, 4, 5)\n",
      "   1  (-31, -31)    [(7, 5)]    (0, 5, 0)\n",
      "   2  (-19, -37)    [(4, 5)]    (0, 5, 1)\n",
      "   2  (-37, -19)    [(7, 2)]    (0, 5, 2)\n",
      "   1  (-13, -31)    [(1, 2)]    (0, 5, 3)\n",
      "   1  (-31, -13)    [(4, -1)]   (0, 5, 4)\n",
      "   2  (-19, -19)    [(1, -1)]   (0, 5, 5)\n",
      "   1  (19, -206)    [(10, 17)]  (1, 0, 0)\n",
      "   2  (31, -212)    [(7, 17)]   (1, 0, 1)\n",
      "   2  (13, -194)    [(10, 14)]  (1, 0, 2)\n",
      "   1  (37, -206)    [(4, 14)]   (1, 0, 3)\n",
      "   1  (19, -188)    [(7, 11)]   (1, 0, 4)\n",
      "   2  (31, -194)    [(4, 11)]   (1, 0, 5)\n",
      "   2  (119, -256)   [(4, 17)]   (1, 1, 0)\n",
      "   3  (131, -262)   [(1, 17)]   (1, 1, 1)\n",
      "   3  (113, -244)   [(4, 14)]   (1, 1, 2)\n",
      "   2  (137, -256)   [(17, 14)]  (1, 1, 3)\n",
      "   2  (119, -238)   [(1, 11)]   (1, 1, 4)\n",
      "   3  (131, -244)   [(17, 11)]  (1, 1, 5)\n",
      "   2  (-31, -106)   [(10, 11)]  (1, 2, 0)\n",
      "   3  (-19, -112)   [(7, 11)]   (1, 2, 1)\n",
      "   3  (-37, -94)    [(10, 8)]   (1, 2, 2)\n",
      "   2  (-13, -106)   [(4, 8)]    (1, 2, 3)\n",
      "   2  (-31, -88)    [(7, 5)]    (1, 2, 4)\n",
      "   3  (-19, -94)    [(4, 5)]    (1, 2, 5)\n",
      "   1  (169, -206)   [(17, 11)]  (1, 3, 0)\n",
      "   2  (181, -212)   [(14, 11)]  (1, 3, 1)\n",
      "   2  (163, -194)   [(17, 8)]   (1, 3, 2)\n",
      "   1  (187, -206)   [(11, 8)]   (1, 3, 3)\n",
      "   1  (169, -188)   [(14, 5)]   (1, 3, 4)\n",
      "   2  (181, -194)   [(11, 5)]   (1, 3, 5)\n",
      "   1  (19, -56)     [(4, 5)]    (1, 4, 0)\n",
      "   2  (31, -62)     [(1, 5)]    (1, 4, 1)\n",
      "   2  (13, -44)     [(4, 2)]    (1, 4, 2)\n",
      "   1  (37, -56)     [(17, 2)]   (1, 4, 3)\n",
      "   1  (19, -38)     [(1, -1)]   (1, 4, 4)\n",
      "   2  (31, -44)     [(17, -1)]  (1, 4, 5)\n",
      "   2  (119, -106)   [(17, 5)]   (1, 5, 0)\n",
      "   3  (131, -112)   [(14, 5)]   (1, 5, 1)\n",
      "   3  (113, -94)    [(17, 2)]   (1, 5, 2)\n",
      "   2  (137, -106)   [(11, 2)]   (1, 5, 3)\n",
      "   2  (119, -88)    [(14, -1)]  (1, 5, 4)\n",
      "   3  (131, -94)    [(11, -1)]  (1, 5, 5)\n",
      "   1  (-206, 19)    [(0, 8)]    (2, 0, 0)\n",
      "   2  (-194, 13)    [(16, 8)]   (2, 0, 1)\n",
      "   2  (-212, 31)    [(0, 5)]    (2, 0, 2)\n",
      "   1  (-188, 19)    [(13, 5)]   (2, 0, 3)\n",
      "   1  (-206, 37)    [(16, 2)]   (2, 0, 4)\n",
      "   2  (-194, 31)    [(13, 2)]   (2, 0, 5)\n",
      "   2  (-106, -31)   [(13, 8)]   (2, 1, 0)\n",
      "   3  (-94, -37)    [(10, 8)]   (2, 1, 1)\n",
      "   3  (-112, -19)   [(13, 5)]   (2, 1, 2)\n",
      "   2  (-88, -31)    [(7, 5)]    (2, 1, 3)\n",
      "   2  (-106, -13)   [(10, 2)]   (2, 1, 4)\n",
      "   3  (-94, -19)    [(7, 2)]    (2, 1, 5)\n",
      "   2  (-256, 119)   [(0, 2)]    (2, 2, 0)\n",
      "   3  (-244, 113)   [(16, 2)]   (2, 2, 1)\n",
      "   3  (-262, 131)   [(0, -1)]   (2, 2, 2)\n",
      "   2  (-238, 119)   [(13, -1)]  (2, 2, 3)\n",
      "   2  (-256, 137)   [(16, 15)]  (2, 2, 4)\n",
      "   3  (-244, 131)   [(13, 15)]  (2, 2, 5)\n",
      "   1  (-56, 19)     [(7, 2)]    (2, 3, 0)\n",
      "   2  (-44, 13)     [(4, 2)]    (2, 3, 1)\n",
      "   2  (-62, 31)     [(7, -1)]   (2, 3, 2)\n",
      "   1  (-38, 19)     [(1, -1)]   (2, 3, 3)\n",
      "   1  (-56, 37)     [(4, 15)]   (2, 3, 4)\n",
      "   2  (-44, 31)     [(1, 15)]   (2, 3, 5)\n",
      "   1  (-206, 169)   [(13, 15)]  (2, 4, 0)\n",
      "   2  (-194, 163)   [(10, 15)]  (2, 4, 1)\n",
      "   2  (-212, 181)   [(13, 12)]  (2, 4, 2)\n",
      "   1  (-188, 169)   [(7, 12)]   (2, 4, 3)\n",
      "   1  (-206, 187)   [(10, 9)]   (2, 4, 4)\n",
      "   2  (-194, 181)   [(7, 9)]    (2, 4, 5)\n",
      "   2  (-106, 119)   [(7, 15)]   (2, 5, 0)\n",
      "   3  (-94, 113)    [(4, 15)]   (2, 5, 1)\n",
      "   3  (-112, 131)   [(7, 12)]   (2, 5, 2)\n",
      "   2  (-88, 119)    [(1, 12)]   (2, 5, 3)\n",
      "   2  (-106, 137)   [(4, 9)]    (2, 5, 4)\n",
      "   3  (-94, 131)    [(1, 9)]    (2, 5, 5)\n",
      "   0  (94, -131)    [(1, 8)]    (3, 0, 0)\n",
      "   1  (106, -137)   [(17, 8)]   (3, 0, 1)\n",
      "   1  (88, -119)    [(1, 5)]    (3, 0, 2)\n",
      "   0  (112, -131)   [(14, 5)]   (3, 0, 3)\n",
      "   0  (94, -113)    [(17, 2)]   (3, 0, 4)\n",
      "   1  (106, -119)   [(14, 2)]   (3, 0, 5)\n",
      "   1  (194, -181)   [(14, 8)]   (3, 1, 0)\n",
      "   2  (206, -187)   [(11, 8)]   (3, 1, 1)\n",
      "   2  (188, -169)   [(14, 5)]   (3, 1, 2)\n",
      "   1  (212, -181)   [(8, 5)]    (3, 1, 3)\n",
      "   1  (194, -163)   [(11, 2)]   (3, 1, 4)\n",
      "   2  (206, -169)   [(8, 2)]    (3, 1, 5)\n",
      "   1  (44, -31)     [(1, 2)]    (3, 2, 0)\n",
      "   2  (56, -37)     [(17, 2)]   (3, 2, 1)\n",
      "   2  (38, -19)     [(1, -1)]   (3, 2, 2)\n",
      "   1  (62, -31)     [(14, -1)]  (3, 2, 3)\n",
      "   1  (44, -13)     [(17, 15)]  (3, 2, 4)\n",
      "   2  (56, -19)     [(14, 15)]  (3, 2, 5)\n",
      "   0  (244, -131)   [(8, 2)]    (3, 3, 0)\n",
      "   1  (256, -137)   [(5, 2)]    (3, 3, 1)\n",
      "   1  (238, -119)   [(8, -1)]   (3, 3, 2)\n",
      "   0  (262, -131)   [(2, -1)]   (3, 3, 3)\n",
      "   0  (244, -113)   [(5, 15)]   (3, 3, 4)\n",
      "   1  (256, -119)   [(2, 15)]   (3, 3, 5)\n",
      "   0  (94, 19)      [(14, 15)]  (3, 4, 0)\n",
      "   1  (106, 13)     [(11, 15)]  (3, 4, 1)\n",
      "   1  (88, 31)      [(14, 12)]  (3, 4, 2)\n",
      "   0  (112, 19)     [(8, 12)]   (3, 4, 3)\n",
      "   0  (94, 37)      [(11, 9)]   (3, 4, 4)\n",
      "   1  (106, 31)     [(8, 9)]    (3, 4, 5)\n",
      "   1  (194, -31)    [(8, 15)]   (3, 5, 0)\n",
      "   2  (206, -37)    [(5, 15)]   (3, 5, 1)\n",
      "   2  (188, -19)    [(8, 12)]   (3, 5, 2)\n",
      "   1  (212, -31)    [(2, 12)]   (3, 5, 3)\n",
      "   1  (194, -13)    [(5, 9)]    (3, 5, 4)\n",
      "   2  (206, -19)    [(2, 9)]    (3, 5, 5)\n",
      "   0  (-131, 94)    [(10, -1)]  (4, 0, 0)\n",
      "   1  (-119, 88)    [(7, -1)]   (4, 0, 1)\n",
      "   1  (-137, 106)   [(10, 15)]  (4, 0, 2)\n",
      "   0  (-113, 94)    [(4, 15)]   (4, 0, 3)\n",
      "   0  (-131, 112)   [(7, 12)]   (4, 0, 4)\n",
      "   1  (-119, 106)   [(4, 12)]   (4, 0, 5)\n",
      "   1  (-31, 44)     [(4, -1)]   (4, 1, 0)\n",
      "   2  (-19, 38)     [(1, -1)]   (4, 1, 1)\n",
      "   2  (-37, 56)     [(4, 15)]   (4, 1, 2)\n",
      "   1  (-13, 44)     [(17, 15)]  (4, 1, 3)\n",
      "   1  (-31, 62)     [(1, 12)]   (4, 1, 4)\n",
      "   2  (-19, 56)     [(17, 12)]  (4, 1, 5)\n",
      "   1  (-181, 194)   [(10, 12)]  (4, 2, 0)\n",
      "   2  (-169, 188)   [(7, 12)]   (4, 2, 1)\n",
      "   2  (-187, 206)   [(10, 9)]   (4, 2, 2)\n",
      "   1  (-163, 194)   [(4, 9)]    (4, 2, 3)\n",
      "   1  (-181, 212)   [(7, 6)]    (4, 2, 4)\n",
      "   2  (-169, 206)   [(4, 6)]    (4, 2, 5)\n",
      "   0  (19, 94)      [(17, 12)]  (4, 3, 0)\n",
      "   1  (31, 88)      [(14, 12)]  (4, 3, 1)\n",
      "   1  (13, 106)     [(17, 9)]   (4, 3, 2)\n",
      "   0  (37, 94)      [(11, 9)]   (4, 3, 3)\n",
      "   0  (19, 112)     [(14, 6)]   (4, 3, 4)\n",
      "   1  (31, 106)     [(11, 6)]   (4, 3, 5)\n",
      "   0  (-131, 244)   [(4, 6)]    (4, 4, 0)\n",
      "   1  (-119, 238)   [(1, 6)]    (4, 4, 1)\n",
      "   1  (-137, 256)   [(4, 3)]    (4, 4, 2)\n",
      "   0  (-113, 244)   [(17, 3)]   (4, 4, 3)\n",
      "   0  (-131, 262)   [(1, 0)]    (4, 4, 4)\n",
      "   1  (-119, 256)   [(17, 0)]   (4, 4, 5)\n",
      "   1  (-31, 194)    [(17, 6)]   (4, 5, 0)\n",
      "   2  (-19, 188)    [(14, 6)]   (4, 5, 1)\n",
      "   2  (-37, 206)    [(17, 3)]   (4, 5, 2)\n",
      "   1  (-13, 194)    [(11, 3)]   (4, 5, 3)\n",
      "   1  (-31, 212)    [(14, 0)]   (4, 5, 4)\n",
      "   2  (-19, 206)    [(11, 0)]   (4, 5, 5)\n",
      "   1  (19, 19)      [(1, -1)]   (5, 0, 0)\n",
      "   2  (31, 13)      [(17, -1)]  (5, 0, 1)\n",
      "   2  (13, 31)      [(1, 15)]   (5, 0, 2)\n",
      "   1  (37, 19)      [(14, 15)]  (5, 0, 3)\n",
      "   1  (19, 37)      [(17, 12)]  (5, 0, 4)\n",
      "   2  (31, 31)      [(14, 12)]  (5, 0, 5)\n",
      "   2  (119, -31)    [(14, -1)]  (5, 1, 0)\n",
      "   3  (131, -37)    [(11, -1)]  (5, 1, 1)\n",
      "   3  (113, -19)    [(14, 15)]  (5, 1, 2)\n",
      "   2  (137, -31)    [(8, 15)]   (5, 1, 3)\n",
      "   2  (119, -13)    [(11, 12)]  (5, 1, 4)\n",
      "   3  (131, -19)    [(8, 12)]   (5, 1, 5)\n",
      "   2  (-31, 119)    [(1, 12)]   (5, 2, 0)\n",
      "   3  (-19, 113)    [(17, 12)]  (5, 2, 1)\n",
      "   3  (-37, 131)    [(1, 9)]    (5, 2, 2)\n",
      "   2  (-13, 119)    [(14, 9)]   (5, 2, 3)\n",
      "   2  (-31, 137)    [(17, 6)]   (5, 2, 4)\n",
      "   3  (-19, 131)    [(14, 6)]   (5, 2, 5)\n",
      "   1  (169, 19)     [(8, 12)]   (5, 3, 0)\n",
      "   2  (181, 13)     [(5, 12)]   (5, 3, 1)\n",
      "   2  (163, 31)     [(8, 9)]    (5, 3, 2)\n",
      "   1  (187, 19)     [(2, 9)]    (5, 3, 3)\n",
      "   1  (169, 37)     [(5, 6)]    (5, 3, 4)\n",
      "   2  (181, 31)     [(2, 6)]    (5, 3, 5)\n",
      "   1  (19, 169)     [(14, 6)]   (5, 4, 0)\n",
      "   2  (31, 163)     [(11, 6)]   (5, 4, 1)\n",
      "   2  (13, 181)     [(14, 3)]   (5, 4, 2)\n",
      "   1  (37, 169)     [(8, 3)]    (5, 4, 3)\n",
      "   1  (19, 187)     [(11, 0)]   (5, 4, 4)\n",
      "   2  (31, 181)     [(8, 0)]    (5, 4, 5)\n",
      "   2  (119, 119)    [(8, 6)]    (5, 5, 0)\n",
      "   3  (131, 113)    [(5, 6)]    (5, 5, 1)\n",
      "   3  (113, 131)    [(8, 3)]    (5, 5, 2)\n",
      "   2  (137, 119)    [(2, 3)]    (5, 5, 3)\n",
      "   2  (119, 137)    [(5, 0)]    (5, 5, 4)\n",
      "   3  (131, 131)    [(2, 0)]    (5, 5, 5)\n"
     ]
    }
   ],
   "source": [
    "S4.sVals(b0, printOnly=True)"
   ]
  },
  {
   "cell_type": "markdown",
   "metadata": {},
   "source": [
    "Sung reccomendation: change name of flatConnections"
   ]
  },
  {
   "cell_type": "code",
   "execution_count": 27,
   "metadata": {},
   "outputs": [
    {
     "name": "stdout",
     "output_type": "stream",
     "text": [
      "Seifert Data: \n",
      "[-1, 1, 2, 1, 3, 1, 9]\n",
      "Plumbing matrix: \n",
      "[-1  1  1  1]\n",
      "[ 1 -2  0  0]\n",
      "[ 1  0 -3  0]\n",
      "[ 1  0  0 -9]\n",
      "Determinant: \n",
      "3\n",
      "Inverse: \n",
      "[ -18   -9   -6   -2]\n",
      "[  -9   -5   -3   -1]\n",
      "[  -6   -3 -7/3 -2/3]\n",
      "[  -2   -1 -2/3 -1/3]\n",
      "Coker: \n",
      "[[0, 0, 0, 0], [0, 0, 2/3, 1/3], [0, 0, 1/3, 2/3]]\n",
      "Trivial flat connections for A_1: \n",
      "[[(1/2), (-1/2), (-1/2), (-1/2)], [(5/2), (-1/2), (-9/2), (-13/2)]]\n",
      "Trivial flat connections for A_2: \n",
      "[[(1, 1), (-1, -1), (-1, -1), (-1, -1)], [(3, 1), (-1, -1), (-5, -1), (-7, -1)]]\n",
      "s values: \n",
      "  wl  s           κ           Group elements\n",
      "----  ----------  ----------  ----------------\n",
      "   0  (-17, -17)  [(-1, -1)]  (0, 0, 0)\n",
      "   2  (-1, -25)   [(-1, -1)]  (0, 1, 1)\n",
      "   2  (-25, -1)   [(-1, -1)]  (0, 2, 2)\n",
      "   0  (7, -17)    [(-1, -1)]  (0, 3, 3)\n",
      "   0  (-17, 7)    [(-1, -1)]  (0, 4, 4)\n",
      "   2  (-1, -1)    [(-1, -1)]  (0, 5, 5)\n",
      "   1  (1, -26)    [(-1, -1)]  (1, 0, 0)\n",
      "   3  (17, -34)   [(-1, -1)]  (1, 1, 1)\n",
      "   3  (-7, -10)   [(-1, -1)]  (1, 2, 2)\n",
      "   1  (25, -26)   [(-1, -1)]  (1, 3, 3)\n",
      "   1  (1, -2)     [(-1, -1)]  (1, 4, 4)\n",
      "   3  (17, -10)   [(-1, -1)]  (1, 5, 5)\n",
      "   1  (-26, 1)    [(-1, -1)]  (2, 0, 0)\n",
      "   3  (-10, -7)   [(-1, -1)]  (2, 1, 1)\n",
      "   3  (-34, 17)   [(-1, -1)]  (2, 2, 2)\n",
      "   1  (-2, 1)     [(-1, -1)]  (2, 3, 3)\n",
      "   1  (-26, 25)   [(-1, -1)]  (2, 4, 4)\n",
      "   3  (-10, 17)   [(-1, -1)]  (2, 5, 5)\n",
      "   0  (10, -17)   [(-1, -1)]  (3, 0, 0)\n",
      "   2  (26, -25)   [(-1, -1)]  (3, 1, 1)\n",
      "   2  (2, -1)     [(-1, -1)]  (3, 2, 2)\n",
      "   0  (34, -17)   [(-1, -1)]  (3, 3, 3)\n",
      "   0  (10, 7)     [(-1, -1)]  (3, 4, 4)\n",
      "   2  (26, -1)    [(-1, -1)]  (3, 5, 5)\n",
      "   0  (-17, 10)   [(-1, -1)]  (4, 0, 0)\n",
      "   2  (-1, 2)     [(-1, -1)]  (4, 1, 1)\n",
      "   2  (-25, 26)   [(-1, -1)]  (4, 2, 2)\n",
      "   0  (7, 10)     [(-1, -1)]  (4, 3, 3)\n",
      "   0  (-17, 34)   [(-1, -1)]  (4, 4, 4)\n",
      "   2  (-1, 26)    [(-1, -1)]  (4, 5, 5)\n",
      "   1  (1, 1)      [(-1, -1)]  (5, 0, 0)\n",
      "   3  (17, -7)    [(-1, -1)]  (5, 1, 1)\n",
      "   3  (-7, 17)    [(-1, -1)]  (5, 2, 2)\n",
      "   1  (25, 1)     [(-1, -1)]  (5, 3, 3)\n",
      "   1  (1, 25)     [(-1, -1)]  (5, 4, 4)\n",
      "   3  (17, 17)    [(-1, -1)]  (5, 5, 5)\n",
      "\n",
      "\n"
     ]
    }
   ],
   "source": [
    "print(\"Seifert Data: \")\n",
    "print(S.SeifertData)\n",
    "print(\"Plumbing matrix: \")\n",
    "print(S.M)\n",
    "print(\"Determinant: \")\n",
    "print(S.Mdet)\n",
    "print(\"Inverse: \")\n",
    "print(S.Minv)\n",
    "print(\"Coker: \")\n",
    "print(S.Coker)\n",
    "print(\"Trivial flat connections for A_1: \")\n",
    "print(S.bSet(rk = 1))\n",
    "print(\"Trivial flat connections for A_2: \")\n",
    "print(S.bSet(rk = 2))\n",
    "print(\"s values: \")\n",
    "S.sVals(b = S.bSet(rk = 2)[0], printOnly=True)\n",
    "print(\"\\n\")"
   ]
  },
  {
   "cell_type": "markdown",
   "metadata": {},
   "source": [
    "One can also plot a graph of a Seifert manifold:"
   ]
  },
  {
   "cell_type": "code",
   "execution_count": 28,
   "metadata": {},
   "outputs": [
    {
     "data": {
      "image/png": "[encoded data removed]",
      "text/plain": [
       "Graphics object consisting of 8 graphics primitives"
      ]
     },
     "execution_count": 28,
     "metadata": {},
     "output_type": "execute_result"
    }
   ],
   "source": [
    "S4 = Seifert([0,1,2,1,3,1,7])\n",
    "S4.graph.plot()"
   ]
  }
 ],
 "metadata": {
  "kernelspec": {
   "display_name": "SageMath 9.3",
   "language": "sage",
   "name": "sagemath"
  },
  "language_info": {
   "codemirror_mode": {
    "name": "ipython",
    "version": 3
   },
   "file_extension": ".py",
   "mimetype": "text/x-python",
   "name": "python",
   "nbconvert_exporter": "python",
   "pygments_lexer": "ipython3",
   "version": "3.9.2"
  }
 },
 "nbformat": 4,
 "nbformat_minor": 5
}
