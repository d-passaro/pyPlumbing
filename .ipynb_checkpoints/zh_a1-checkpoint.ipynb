{
 "cells": [
  {
   "cell_type": "code",
   "execution_count": 8,
   "metadata": {
    "vscode": {
     "languageId": "python"
    }
   },
   "outputs": [],
   "source": [
    "load(\"pySeifert.sage\")"
   ]
  },
  {
   "cell_type": "code",
   "execution_count": 10,
   "metadata": {
    "vscode": {
     "languageId": "python"
    }
   },
   "outputs": [
    {
     "data": {
      "text/plain": [
       "2 + (-2)*q + (-2)*q^3 + (-2)*q^7 + 2*q^8 + 2*q^14 + 2*q^20 + 2*q^29 + (-2)*q^31 + (-2)*q^42 + (-2)*q^52 + (-2)*q^66 + 2*q^69 + 2*q^85 + 2*q^99 + Order(q^100)"
      ]
     },
     "execution_count": 10,
     "metadata": {},
     "output_type": "execute_result"
    }
   ],
   "source": [
    "S3m1 = Seifert([-1,1,2,1,3,1,5]);\n",
    "b = S3m1.boundary_conditions([\"A\",1],basis = \"root\")[0];\n",
    "expMax = 100;\n",
    "(q^(-4/15)*S3m1.z_hat([\"A\",1], b, expMax, basis = \"root\")).series(q,100)"
   ]
  },
  {
   "cell_type": "code",
   "execution_count": 14,
   "metadata": {
    "vscode": {
     "languageId": "python"
    }
   },
   "outputs": [
    {
     "data": {
      "text/plain": [
       "2 + (-2)*q^3 + 2*q^10 + (-2)*q^23 + 2*q^25 + (-2)*q^44 + 2*q^65 + (-2)*q^94 + 2*q^98 + Order(q^100)"
      ]
     },
     "execution_count": 14,
     "metadata": {},
     "output_type": "execute_result"
    }
   ],
   "source": [
    "S3m2 = Seifert([-1,1,2,1,3,1,8]);\n",
    "b = S3m2.boundary_conditions([\"A\",1],basis = \"root\")[0];\n",
    "expMax = 100;\n",
    "(q^(-1/4)*S3m2.z_hat([\"A\",1], b, expMax, basis = \"root\")).series(q,100)"
   ]
  },
  {
   "cell_type": "code",
   "execution_count": 17,
   "metadata": {
    "vscode": {
     "languageId": "python"
    }
   },
   "outputs": [
    {
     "data": {
      "text/plain": [
       "2 + (-2)*q + 2*q^12 + (-2)*q^19 + 2*q^21 + (-2)*q^30 + 2*q^63 + (-2)*q^78 + 2*q^82 + (-2)*q^99 + Order(q^100)"
      ]
     },
     "execution_count": 17,
     "metadata": {},
     "output_type": "execute_result"
    }
   ],
   "source": [
    "S4m2 = Seifert([-1,1,2,1,4,1,5]);\n",
    "b = S4m2.boundary_conditions([\"A\",1],basis = \"root\")[0];\n",
    "expMax = 100;\n",
    "(q^(-1/4)*S4m2.z_hat([\"A\",1], b, expMax, basis = \"root\")).series(q,100)"
   ]
  },
  {
   "cell_type": "code",
   "execution_count": 21,
   "metadata": {
    "vscode": {
     "languageId": "python"
    }
   },
   "outputs": [
    {
     "data": {
      "text/plain": [
       "2 + (-2)*q + 2*q^6 + (-2)*q^11 + 2*q^13 + (-2)*q^20 + 2*q^35 + (-2)*q^46 + 2*q^50 + (-2)*q^63 + 2*q^88 + Order(q^100)"
      ]
     },
     "execution_count": 21,
     "metadata": {},
     "output_type": "execute_result"
    }
   ],
   "source": [
    "S4m3 = Seifert([-1,1,3,1,3,1,4]);\n",
    "b = S4m3.boundary_conditions([\"A\",1],basis = \"root\")[0];\n",
    "expMax = 100;\n",
    "(q^(-1/4)*S4m3.z_hat([\"A\",1], b, expMax, basis = \"root\")).series(q,100)"
   ]
  },
  {
   "cell_type": "code",
   "execution_count": 23,
   "metadata": {
    "vscode": {
     "languageId": "python"
    }
   },
   "outputs": [
    {
     "data": {
      "text/plain": [
       "2 + 2*q^4 + (-2)*q^5 + (-2)*q^17 + 2*q^19 + 2*q^39 + (-2)*q^42 + (-2)*q^70 + 2*q^74 + Order(q^100)"
      ]
     },
     "execution_count": 23,
     "metadata": {},
     "output_type": "execute_result"
    }
   ],
   "source": [
    "S3m3 = Seifert([-1,1,2,1,3,1,9]);\n",
    "b = S3m3.boundary_conditions([\"A\",1],basis = \"root\")[0];\n",
    "expMax = 100;\n",
    "(q^(-1/4)*S3m3.z_hat([\"A\",1], b, expMax, basis = \"root\")).series(q,100)"
   ]
  },
  {
   "cell_type": "code",
   "execution_count": 26,
   "metadata": {
    "vscode": {
     "languageId": "python"
    }
   },
   "outputs": [
    {
     "data": {
      "text/plain": [
       "2 + (-2)*q + 2*q^2 + 2*q^5 + (-2)*q^7 + (-2)*q^12 + 2*q^15 + 2*q^22 + (-2)*q^26 + (-2)*q^35 + 2*q^40 + 2*q^51 + (-2)*q^57 + (-2)*q^70 + 2*q^77 + 2*q^92 + Order(q^100)"
      ]
     },
     "execution_count": 26,
     "metadata": {},
     "output_type": "execute_result"
    }
   ],
   "source": [
    "S3m3 = Seifert([-2,1,2,2,3,2,3]);\n",
    "b = S3m3.boundary_conditions([\"A\",1],basis = \"root\")[0];\n",
    "expMax = 100;\n",
    "(q^(-1/2)*S3m3.z_hat([\"A\",1], b, expMax, basis = \"root\")).series(q,100)"
   ]
  },
  {
   "cell_type": "code",
   "execution_count": 28,
   "metadata": {
    "vscode": {
     "languageId": "python"
    }
   },
   "outputs": [
    {
     "data": {
      "text/plain": [
       "2 + 2*q^6 + (-2)*q^28 + (-2)*q^58 + 2*q^62 + Order(q^100)"
      ]
     },
     "execution_count": 28,
     "metadata": {},
     "output_type": "execute_result"
    }
   ],
   "source": [
    "S3m4 = Seifert([-1,1,2,1,3,1,10]);\n",
    "b = S3m4.boundary_conditions([\"A\",1],basis = \"root\")[0];\n",
    "expMax = 100;\n",
    "(q^(-1/4)*S3m4.z_hat([\"A\",1], b, expMax, basis = \"root\")).series(q,100)"
   ]
  },
  {
   "cell_type": "code",
   "execution_count": 31,
   "metadata": {
    "vscode": {
     "languageId": "python"
    }
   },
   "outputs": [
    {
     "data": {
      "text/plain": [
       "Order(q^1000)"
      ]
     },
     "execution_count": 31,
     "metadata": {},
     "output_type": "execute_result"
    }
   ],
   "source": [
    "S3m4 = Seifert([-2,1,2,1,2,2,3]);\n",
    "b = S3m4.boundary_conditions([\"A\",1],basis = \"root\")[0];\n",
    "expMax = 1000;\n",
    "(q^(-1/4)*S3m4.z_hat([\"A\",1], b, expMax, basis = \"root\")).series(q,1000)"
   ]
  },
  {
   "cell_type": "code",
   "execution_count": 11,
   "metadata": {
    "vscode": {
     "languageId": "python"
    }
   },
   "outputs": [
    {
     "data": {
      "text/plain": [
       "1 + 1*q^4 + (-1)*q^11 + (-1)*q^23 + 1*q^37 + 1*q^57 + (-1)*q^78 + (-1)*q^106 + 1*q^134 + 1*q^170 + (-1)*q^205 + (-1)*q^249 + 1*q^291 + 1*q^343 + (-1)*q^392 + (-1)*q^452 + 1*q^508 + 1*q^576 + (-1)*q^639 + (-1)*q^715 + 1*q^785 + 1*q^869 + (-1)*q^946 + Order(q^1000)"
      ]
     },
     "execution_count": 11,
     "metadata": {},
     "output_type": "execute_result"
    }
   ],
   "source": [
    "load(\"pySeifert.sage\")\n",
    "S3m4 = Seifert([-1,1,2,2,5,1,15]);\n",
    "b = S3m4.boundary_conditions([\"A\",1],basis = \"root\")[0]\n",
    "expMax = 1000;\n",
    "(q^(-7/10)*S3m4.z_hat([\"A\",1], b, expMax, basis = \"root\")).series(q,1000)"
   ]
  },
  {
   "cell_type": "code",
   "execution_count": 9,
   "metadata": {
    "vscode": {
     "languageId": "python"
    }
   },
   "outputs": [
    {
     "data": {
      "text/plain": [
       "(-1) + (-1)*q^2 + 1*q^13 + 1*q^19 + (-1)*q^41 + (-1)*q^51 + 1*q^84 + 1*q^98 + (-1)*q^142 + (-1)*q^160 + 1*q^215 + 1*q^237 + (-1)*q^303 + (-1)*q^329 + 1*q^406 + 1*q^436 + (-1)*q^524 + (-1)*q^558 + 1*q^657 + 1*q^695 + (-1)*q^805 + (-1)*q^847 + 1*q^968 + Order(q^1000)"
      ]
     },
     "execution_count": 9,
     "metadata": {},
     "output_type": "execute_result"
    }
   ],
   "source": [
    "load(\"pySeifert.sage\")\n",
    "S3m4 = Seifert([-1,1,2,2,5,1,15]);\n",
    "b = S3m4.boundary_conditions([\"A\",1],basis = \"root\")[1]\n",
    "expMax = 1000;\n",
    "(q^(-13/10)*S3m4.z_hat([\"A\",1], b, expMax, basis = \"root\")).series(q,1000)"
   ]
  },
  {
   "cell_type": "code",
   "execution_count": 10,
   "metadata": {
    "vscode": {
     "languageId": "python"
    }
   },
   "outputs": [
    {
     "data": {
      "text/plain": [
       "(-1) + (-1)*q^2 + 1*q^13 + 1*q^19 + (-1)*q^41 + (-1)*q^51 + 1*q^84 + 1*q^98 + (-1)*q^142 + (-1)*q^160 + 1*q^215 + 1*q^237 + (-1)*q^303 + (-1)*q^329 + 1*q^406 + 1*q^436 + (-1)*q^524 + (-1)*q^558 + 1*q^657 + 1*q^695 + (-1)*q^805 + (-1)*q^847 + 1*q^968 + Order(q^1000)"
      ]
     },
     "execution_count": 10,
     "metadata": {},
     "output_type": "execute_result"
    }
   ],
   "source": [
    "load(\"pySeifert.sage\")\n",
    "S3m4 = Seifert([-1,1,2,2,5,1,15]);\n",
    "b = S3m4.boundary_conditions([\"A\",1],basis = \"root\")[2]\n",
    "expMax = 1000;\n",
    "(q^(-13/10)*S3m4.z_hat([\"A\",1], b, expMax, basis = \"root\")).series(q,1000)"
   ]
  },
  {
   "cell_type": "code",
   "execution_count": null,
   "metadata": {
    "vscode": {
     "languageId": "python"
    }
   },
   "outputs": [],
   "source": []
  }
 ],
 "metadata": {
  "kernelspec": {
   "display_name": "SageMath 9.6",
   "language": "sage",
   "name": "sagemath"
  },
  "language_info": {
   "codemirror_mode": {
    "name": "ipython",
    "version": 3
   },
   "file_extension": ".py",
   "mimetype": "text/x-python",
   "name": "python",
   "nbconvert_exporter": "python",
   "pygments_lexer": "ipython3",
   "version": "3.10.4"
  },
  "vscode": {
   "interpreter": {
    "hash": "e7370f93d1d0cde622a1f8e1c04877d8463912d04d973331ad4851f04de6915a"
   }
  }
 },
 "nbformat": 4,
 "nbformat_minor": 2
}
