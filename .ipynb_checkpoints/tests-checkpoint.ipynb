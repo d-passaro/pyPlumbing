{
 "cells": [
  {
   "cell_type": "code",
   "execution_count": 131,
   "metadata": {},
   "outputs": [],
   "source": [
    "load(\"pyPlumbing.sage\")"
   ]
  },
  {
   "cell_type": "markdown",
   "metadata": {},
   "source": [
    "# Define and instantiate a plumbing manifold"
   ]
  },
  {
   "cell_type": "code",
   "execution_count": 124,
   "metadata": {},
   "outputs": [],
   "source": [
    "vertices_dict = {0: 1, 1: 2, 2:2, 3:2, 4: 2, 5: 2, 6: 2, 7: 2}\n",
    "edges = [(0,1),(0,2),(2,4),(0,3),(3,5),(5,6),(6,7)]\n",
    "P = Plumbing(vertices_dict,edges)"
   ]
  },
  {
   "cell_type": "code",
   "execution_count": 109,
   "metadata": {},
   "outputs": [
    {
     "data": {
      "image/png": "[encoded data removed]",
      "text/plain": [
       "Graphics object consisting of 16 graphics primitives"
      ]
     },
     "metadata": {},
     "output_type": "display_data"
    }
   ],
   "source": [
    "P.display()"
   ]
  },
  {
   "cell_type": "markdown",
   "metadata": {},
   "source": [
    "# Define manifold from Seifert Data"
   ]
  },
  {
   "cell_type": "code",
   "execution_count": 110,
   "metadata": {},
   "outputs": [],
   "source": [
    "P1 = Plumbing.from_Seifert_data([-1, 1/2, 2/3, 4/5])"
   ]
  },
  {
   "cell_type": "code",
   "execution_count": 111,
   "metadata": {},
   "outputs": [
    {
     "data": {
      "image/png": "[encoded data removed]",
      "text/plain": [
       "Graphics object consisting of 16 graphics primitives"
      ]
     },
     "metadata": {},
     "output_type": "display_data"
    }
   ],
   "source": [
    "P1.display()"
   ]
  },
  {
   "cell_type": "markdown",
   "metadata": {},
   "source": [
    "# Compute some properties of the manifold"
   ]
  },
  {
   "cell_type": "code",
   "execution_count": 112,
   "metadata": {},
   "outputs": [
    {
     "name": "stdout",
     "output_type": "stream",
     "text": [
      "Degree vector: \n",
      " [3]\n",
      "[1]\n",
      "[2]\n",
      "[2]\n",
      "[1]\n",
      "[2]\n",
      "[2]\n",
      "[1]\n",
      "Weight vector: \n",
      " [1]\n",
      "[2]\n",
      "[2]\n",
      "[2]\n",
      "[2]\n",
      "[2]\n",
      "[2]\n",
      "[2]\n",
      "Plumbing matrix: \n",
      " [1 1 1 1 0 0 0 0]\n",
      "[1 2 0 0 0 0 0 0]\n",
      "[1 0 2 0 1 0 0 0]\n",
      "[1 0 0 2 0 1 0 0]\n",
      "[0 0 1 0 2 0 0 0]\n",
      "[0 0 0 1 0 2 1 0]\n",
      "[0 0 0 0 0 1 2 1]\n",
      "[0 0 0 0 0 0 1 2]\n",
      "Plumbing matrix is singular: \n",
      " True\n",
      "Definiteness type: \n",
      " positive and negative eigenvalues\n",
      "Weak definiteness type: \n",
      " negative weakly definite\n",
      "Graph is tree: \n",
      " True\n",
      "Plumbing manifold is Seifert: \n",
      " True\n",
      "Seifert fiber count: \n",
      " 3\n",
      "Seifert data: \n",
      " [1, -1/2, -2/3, -4/5]\n",
      "Plumbing matrix determinant: \n",
      " -29\n",
      "Plumbing matrix inverse: \n",
      " [-30/29  15/29  20/29  24/29 -10/29 -18/29  12/29  -6/29]\n",
      "[ 15/29   7/29 -10/29 -12/29   5/29   9/29  -6/29   3/29]\n",
      "[ 20/29 -10/29   6/29 -16/29  -3/29  12/29  -8/29   4/29]\n",
      "[ 24/29 -12/29 -16/29   4/29   8/29  -3/29   2/29  -1/29]\n",
      "[-10/29   5/29  -3/29   8/29  16/29  -6/29   4/29  -2/29]\n",
      "[-18/29   9/29  12/29  -3/29  -6/29  24/29 -16/29   8/29]\n",
      "[ 12/29  -6/29  -8/29   2/29   4/29 -16/29  30/29 -15/29]\n",
      "[ -6/29   3/29   4/29  -1/29  -2/29   8/29 -15/29  22/29]\n",
      "Orbifold Euler characteristic: \n",
      " -29/30\n",
      "Orbifold Euler normalization factor (D): \n",
      " 29\n",
      "Effective inverse Euler (m): \n",
      " 30\n"
     ]
    }
   ],
   "source": [
    "print(\"Degree vector: \\n\", P.degree_vector)\n",
    "print(\"Weight vector: \\n\", P.weight_vector)\n",
    "print(\"Plumbing matrix: \\n\", P.plumbing_matrix)\n",
    "print(\"Plumbing matrix is singular: \\n\", P.is_plumbing_non_singular)\n",
    "print(\"Definiteness type: \\n\",P.definiteness_type)\n",
    "print(\"Weak definiteness type: \\n\", P.weak_definiteness_type)\n",
    "print(\"Graph is tree: \\n\", P.is_tree)\n",
    "print(\"Plumbing manifold is Seifert: \\n\", P.is_Seifert)\n",
    "print(\"Seifert fiber count: \\n\", P.Seifert_fiber_count)\n",
    "print(\"Seifert data: \\n\", P.Seifert_data)\n",
    "print(\"Plumbing matrix determinant: \\n\", P.plumbing_matrix_determinant)\n",
    "print(\"Plumbing matrix inverse: \\n\", P.plumbing_matrix_inverse)\n",
    "print(\"Orbifold Euler characteristic: \\n\", P.orbifold_euler)\n",
    "print(\"Orbifold Euler normalization factor (D): \\n\", P.norm_fac_euler)\n",
    "print(\"Effective inverse Euler (m): \\n\", P.eff_inv_euler)"
   ]
  },
  {
   "cell_type": "code",
   "execution_count": 141,
   "metadata": {},
   "outputs": [
    {
     "name": "stdout",
     "output_type": "stream",
     "text": [
      "0.0015933513641357422\n"
     ]
    }
   ],
   "source": [
    "import time\n",
    "start_time = time.time()\n",
    "weyl_vector((\"A\",3))\n",
    "end_time = time.time()\n",
    "print(end_time-start_time)"
   ]
  },
  {
   "cell_type": "code",
   "execution_count": 142,
   "metadata": {},
   "outputs": [
    {
     "name": "stdout",
     "output_type": "stream",
     "text": [
      "0.00024175643920898438\n"
     ]
    }
   ],
   "source": [
    "import time\n",
    "start_time = time.time()\n",
    "weyl_vector((\"A\",3))\n",
    "end_time = time.time()\n",
    "print(end_time-start_time)"
   ]
  },
  {
   "cell_type": "code",
   "execution_count": 143,
   "metadata": {},
   "outputs": [
    {
     "name": "stdout",
     "output_type": "stream",
     "text": [
      "0.00022721290588378906\n"
     ]
    }
   ],
   "source": [
    "import time\n",
    "start_time = time.time()\n",
    "weyl_vector((\"A\",3))\n",
    "end_time = time.time()\n",
    "print(end_time-start_time)"
   ]
  },
  {
   "cell_type": "code",
   "execution_count": 177,
   "metadata": {},
   "outputs": [],
   "source": [
    "# Construct b0 \n",
    "type_rank = (\"A\",2)\n",
    "C = cartan_matrix(tuple(type_rank))\n",
    "rho = weyl_vector(tuple(type_rank))\n",
    "\n",
    "b0 = matrix([((a[0] % 2) * rho) for a in P.degree_vector])"
   ]
  },
  {
   "cell_type": "code",
   "execution_count": 178,
   "metadata": {},
   "outputs": [],
   "source": [
    "# Tensor coker with Lambda\n",
    "rk = type_rank[1]\n",
    "e = identity_matrix(rk)\n",
    "spin_c = list()\n",
    "for ei, v in itertools.product(e, P.coker):\n",
    "    spin_c.append([x*ei for x in P.plumbing_matrix*vector(v)])"
   ]
  },
  {
   "cell_type": "code",
   "execution_count": 185,
   "metadata": {},
   "outputs": [],
   "source": [
    "# Identify duplicates based on Weyl group transformations\n",
    "toRemove = set()\n",
    "for i, b in enumerate(spin_c):\n",
    "    for g in weyl_group(type_rank):\n",
    "        gb = [g*vector(x) for x in b]\n",
    "        remove = False\n",
    "        for bb in spin_c[:i]:\n",
    "            print(vector(P.plumbing_matrix_inverse*(matrix(gb)-matrix(bb))))\n",
    "            if vector(P.plumbing_matrix_inverse*(matrix(gb)-matrix(bb))) in ZZ^(P.vertex_count * rk):\n",
    "                remove = True\n",
    "                toRemove.add(i)\n",
    "                break\n",
    "        if remove:\n",
    "            break\n"
   ]
  },
  {
   "cell_type": "code",
   "execution_count": 182,
   "metadata": {},
   "outputs": [],
   "source": [
    "for i in reversed(sorted(toRemove)):\n",
    "    del spin_c[i]\n",
    "\n",
    "spin_c = sorted(\n",
    "    [list(matrix(b)+matrix(b0)) for b in spin_c])"
   ]
  },
  {
   "cell_type": "code",
   "execution_count": 183,
   "metadata": {},
   "outputs": [
    {
     "data": {
      "text/plain": [
       "[[(1, 1), (1, 1), (0, 0), (0, 0), (1, 1), (0, 0), (0, 0), (1, 1)]]"
      ]
     },
     "execution_count": 183,
     "metadata": {},
     "output_type": "execute_result"
    }
   ],
   "source": [
    "spin_c"
   ]
  },
  {
   "cell_type": "code",
   "execution_count": 163,
   "metadata": {},
   "outputs": [],
   "source": [
    "v = P.coker[1]"
   ]
  },
  {
   "cell_type": "code",
   "execution_count": 169,
   "metadata": {},
   "outputs": [
    {
     "data": {
      "text/plain": [
       "[0 0 0 0 0 0 0 1]"
      ]
     },
     "execution_count": 169,
     "metadata": {},
     "output_type": "execute_result"
    }
   ],
   "source": [
    "matrix(v)"
   ]
  },
  {
   "cell_type": "code",
   "execution_count": null,
   "metadata": {},
   "outputs": [],
   "source": []
  }
 ],
 "metadata": {
  "kernelspec": {
   "display_name": "SageMath 10.2",
   "language": "sage",
   "name": "sagemath"
  },
  "language_info": {
   "codemirror_mode": {
    "name": "ipython",
    "version": 3
   },
   "file_extension": ".py",
   "mimetype": "text/x-python",
   "name": "python",
   "nbconvert_exporter": "python",
   "pygments_lexer": "ipython3",
   "version": "3.11.9"
  }
 },
 "nbformat": 4,
 "nbformat_minor": 2
}
